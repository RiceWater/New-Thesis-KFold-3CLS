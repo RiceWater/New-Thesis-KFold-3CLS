{
  "nbformat": 4,
  "nbformat_minor": 0,
  "metadata": {
    "colab": {
      "provenance": [],
      "gpuType": "V100",
      "include_colab_link": true
    },
    "kernelspec": {
      "name": "python3",
      "display_name": "Python 3"
    },
    "language_info": {
      "name": "python"
    },
    "accelerator": "GPU"
  },
  "cells": [
    {
      "cell_type": "markdown",
      "metadata": {
        "id": "view-in-github",
        "colab_type": "text"
      },
      "source": [
        "<a href=\"https://colab.research.google.com/github/RiceWater/New-Thesis-KFold-3CLS/blob/No-Building/Kaggle_3CLS_No_Building.ipynb\" target=\"_parent\"><img src=\"https://colab.research.google.com/assets/colab-badge.svg\" alt=\"Open In Colab\"/></a>"
      ]
    },
    {
      "cell_type": "code",
      "source": [
        "!pip list"
      ],
      "metadata": {
        "id": "V5tORvdqFkHA",
        "colab": {
          "base_uri": "https://localhost:8080/"
        },
        "outputId": "6105e9c8-31e4-473c-916f-9f8cd6f85cbe"
      },
      "execution_count": 1,
      "outputs": [
        {
          "output_type": "stream",
          "name": "stdout",
          "text": [
            "Package                          Version\n",
            "-------------------------------- ---------------------\n",
            "absl-py                          1.4.0\n",
            "aiohttp                          3.9.5\n",
            "aiosignal                        1.3.1\n",
            "alabaster                        0.7.16\n",
            "albumentations                   1.3.1\n",
            "altair                           4.2.2\n",
            "annotated-types                  0.6.0\n",
            "anyio                            3.7.1\n",
            "appdirs                          1.4.4\n",
            "argon2-cffi                      23.1.0\n",
            "argon2-cffi-bindings             21.2.0\n",
            "array_record                     0.5.1\n",
            "arviz                            0.15.1\n",
            "astropy                          5.3.4\n",
            "astunparse                       1.6.3\n",
            "async-timeout                    4.0.3\n",
            "atpublic                         4.1.0\n",
            "attrs                            23.2.0\n",
            "audioread                        3.0.1\n",
            "autograd                         1.6.2\n",
            "Babel                            2.14.0\n",
            "backcall                         0.2.0\n",
            "beautifulsoup4                   4.12.3\n",
            "bidict                           0.23.1\n",
            "bigframes                        1.2.0\n",
            "bleach                           6.1.0\n",
            "blinker                          1.4\n",
            "blis                             0.7.11\n",
            "blosc2                           2.0.0\n",
            "bokeh                            3.3.4\n",
            "bqplot                           0.12.43\n",
            "branca                           0.7.1\n",
            "build                            1.2.1\n",
            "CacheControl                     0.14.0\n",
            "cachetools                       5.3.3\n",
            "catalogue                        2.0.10\n",
            "certifi                          2024.2.2\n",
            "cffi                             1.16.0\n",
            "chardet                          5.2.0\n",
            "charset-normalizer               3.3.2\n",
            "chex                             0.1.86\n",
            "click                            8.1.7\n",
            "click-plugins                    1.1.1\n",
            "cligj                            0.7.2\n",
            "cloudpathlib                     0.16.0\n",
            "cloudpickle                      2.2.1\n",
            "cmake                            3.27.9\n",
            "cmdstanpy                        1.2.2\n",
            "colorcet                         3.1.0\n",
            "colorlover                       0.3.0\n",
            "colour                           0.1.5\n",
            "community                        1.0.0b1\n",
            "confection                       0.1.4\n",
            "cons                             0.4.6\n",
            "contextlib2                      21.6.0\n",
            "contourpy                        1.2.1\n",
            "cryptography                     42.0.5\n",
            "cufflinks                        0.17.3\n",
            "cupy-cuda12x                     12.2.0\n",
            "cvxopt                           1.3.2\n",
            "cvxpy                            1.3.3\n",
            "cycler                           0.12.1\n",
            "cymem                            2.0.8\n",
            "Cython                           3.0.10\n",
            "dask                             2023.8.1\n",
            "datascience                      0.17.6\n",
            "db-dtypes                        1.2.0\n",
            "dbus-python                      1.2.18\n",
            "debugpy                          1.6.6\n",
            "decorator                        4.4.2\n",
            "defusedxml                       0.7.1\n",
            "distributed                      2023.8.1\n",
            "distro                           1.7.0\n",
            "dlib                             19.24.4\n",
            "dm-tree                          0.1.8\n",
            "docstring_parser                 0.16\n",
            "docutils                         0.18.1\n",
            "dopamine-rl                      4.0.6\n",
            "duckdb                           0.10.1\n",
            "earthengine-api                  0.1.398\n",
            "easydict                         1.13\n",
            "ecos                             2.0.13\n",
            "editdistance                     0.6.2\n",
            "eerepr                           0.0.4\n",
            "en-core-web-sm                   3.7.1\n",
            "entrypoints                      0.4\n",
            "et-xmlfile                       1.1.0\n",
            "etils                            1.7.0\n",
            "etuples                          0.3.9\n",
            "exceptiongroup                   1.2.0\n",
            "fastai                           2.7.14\n",
            "fastcore                         1.5.29\n",
            "fastdownload                     0.0.7\n",
            "fastjsonschema                   2.19.1\n",
            "fastprogress                     1.0.3\n",
            "fastrlock                        0.8.2\n",
            "filelock                         3.13.4\n",
            "fiona                            1.9.6\n",
            "firebase-admin                   5.3.0\n",
            "Flask                            2.2.5\n",
            "flatbuffers                      24.3.25\n",
            "flax                             0.8.2\n",
            "folium                           0.14.0\n",
            "fonttools                        4.51.0\n",
            "frozendict                       2.4.2\n",
            "frozenlist                       1.4.1\n",
            "fsspec                           2023.6.0\n",
            "future                           0.18.3\n",
            "gast                             0.5.4\n",
            "gcsfs                            2023.6.0\n",
            "GDAL                             3.6.4\n",
            "gdown                            4.7.3\n",
            "geemap                           0.32.0\n",
            "gensim                           4.3.2\n",
            "geocoder                         1.38.1\n",
            "geographiclib                    2.0\n",
            "geopandas                        0.13.2\n",
            "geopy                            2.3.0\n",
            "gin-config                       0.5.0\n",
            "glob2                            0.7\n",
            "google                           2.0.3\n",
            "google-ai-generativelanguage     0.4.0\n",
            "google-api-core                  2.11.1\n",
            "google-api-python-client         2.84.0\n",
            "google-auth                      2.27.0\n",
            "google-auth-httplib2             0.1.1\n",
            "google-auth-oauthlib             1.2.0\n",
            "google-cloud-aiplatform          1.47.0\n",
            "google-cloud-bigquery            3.12.0\n",
            "google-cloud-bigquery-connection 1.12.1\n",
            "google-cloud-bigquery-storage    2.24.0\n",
            "google-cloud-core                2.3.3\n",
            "google-cloud-datastore           2.15.2\n",
            "google-cloud-firestore           2.11.1\n",
            "google-cloud-functions           1.13.3\n",
            "google-cloud-iam                 2.14.3\n",
            "google-cloud-language            2.13.3\n",
            "google-cloud-resource-manager    1.12.3\n",
            "google-cloud-storage             2.8.0\n",
            "google-cloud-translate           3.11.3\n",
            "google-colab                     1.0.0\n",
            "google-crc32c                    1.5.0\n",
            "google-generativeai              0.3.2\n",
            "google-pasta                     0.2.0\n",
            "google-resumable-media           2.7.0\n",
            "googleapis-common-protos         1.63.0\n",
            "googledrivedownloader            0.4\n",
            "graphviz                         0.20.3\n",
            "greenlet                         3.0.3\n",
            "grpc-google-iam-v1               0.13.0\n",
            "grpcio                           1.62.1\n",
            "grpcio-status                    1.48.2\n",
            "gspread                          3.4.2\n",
            "gspread-dataframe                3.3.1\n",
            "gym                              0.25.2\n",
            "gym-notices                      0.0.8\n",
            "h5netcdf                         1.3.0\n",
            "h5py                             3.9.0\n",
            "holidays                         0.47\n",
            "holoviews                        1.17.1\n",
            "html5lib                         1.1\n",
            "httpimport                       1.3.1\n",
            "httplib2                         0.22.0\n",
            "huggingface-hub                  0.20.3\n",
            "humanize                         4.7.0\n",
            "hyperopt                         0.2.7\n",
            "ibis-framework                   8.0.0\n",
            "idna                             3.7\n",
            "imageio                          2.31.6\n",
            "imageio-ffmpeg                   0.4.9\n",
            "imagesize                        1.4.1\n",
            "imbalanced-learn                 0.10.1\n",
            "imgaug                           0.4.0\n",
            "importlib_metadata               7.1.0\n",
            "importlib_resources              6.4.0\n",
            "imutils                          0.5.4\n",
            "inflect                          7.0.0\n",
            "iniconfig                        2.0.0\n",
            "intel-openmp                     2023.2.4\n",
            "ipyevents                        2.0.2\n",
            "ipyfilechooser                   0.6.0\n",
            "ipykernel                        5.5.6\n",
            "ipyleaflet                       0.18.2\n",
            "ipython                          7.34.0\n",
            "ipython-genutils                 0.2.0\n",
            "ipython-sql                      0.5.0\n",
            "ipytree                          0.2.2\n",
            "ipywidgets                       7.7.1\n",
            "itsdangerous                     2.2.0\n",
            "jax                              0.4.26\n",
            "jaxlib                           0.4.26+cuda12.cudnn89\n",
            "jeepney                          0.7.1\n",
            "jieba                            0.42.1\n",
            "Jinja2                           3.1.3\n",
            "joblib                           1.4.0\n",
            "jsonpickle                       3.0.4\n",
            "jsonschema                       4.19.2\n",
            "jsonschema-specifications        2023.12.1\n",
            "jupyter-client                   6.1.12\n",
            "jupyter-console                  6.1.0\n",
            "jupyter_core                     5.7.2\n",
            "jupyter-server                   1.24.0\n",
            "jupyterlab_pygments              0.3.0\n",
            "jupyterlab_widgets               3.0.10\n",
            "kaggle                           1.5.16\n",
            "kagglehub                        0.2.3\n",
            "keras                            2.15.0\n",
            "keyring                          23.5.0\n",
            "kiwisolver                       1.4.5\n",
            "langcodes                        3.3.0\n",
            "launchpadlib                     1.10.16\n",
            "lazr.restfulclient               0.14.4\n",
            "lazr.uri                         1.0.6\n",
            "lazy_loader                      0.4\n",
            "libclang                         18.1.1\n",
            "librosa                          0.10.1\n",
            "lightgbm                         4.1.0\n",
            "linkify-it-py                    2.0.3\n",
            "llvmlite                         0.41.1\n",
            "locket                           1.0.0\n",
            "logical-unification              0.4.6\n",
            "lxml                             4.9.4\n",
            "malloy                           2023.1067\n",
            "Markdown                         3.6\n",
            "markdown-it-py                   3.0.0\n",
            "MarkupSafe                       2.1.5\n",
            "matplotlib                       3.7.1\n",
            "matplotlib-inline                0.1.7\n",
            "matplotlib-venn                  0.11.10\n",
            "mdit-py-plugins                  0.4.0\n",
            "mdurl                            0.1.2\n",
            "miniKanren                       1.0.3\n",
            "missingno                        0.5.2\n",
            "mistune                          0.8.4\n",
            "mizani                           0.9.3\n",
            "mkl                              2023.2.0\n",
            "ml-dtypes                        0.2.0\n",
            "mlxtend                          0.22.0\n",
            "more-itertools                   10.1.0\n",
            "moviepy                          1.0.3\n",
            "mpmath                           1.3.0\n",
            "msgpack                          1.0.8\n",
            "multidict                        6.0.5\n",
            "multipledispatch                 1.0.0\n",
            "multitasking                     0.0.11\n",
            "murmurhash                       1.0.10\n",
            "music21                          9.1.0\n",
            "natsort                          8.4.0\n",
            "nbclassic                        1.0.0\n",
            "nbclient                         0.10.0\n",
            "nbconvert                        6.5.4\n",
            "nbformat                         5.10.4\n",
            "nest-asyncio                     1.6.0\n",
            "networkx                         3.3\n",
            "nibabel                          4.0.2\n",
            "nltk                             3.8.1\n",
            "notebook                         6.5.5\n",
            "notebook_shim                    0.2.4\n",
            "numba                            0.58.1\n",
            "numexpr                          2.10.0\n",
            "numpy                            1.25.2\n",
            "oauth2client                     4.1.3\n",
            "oauthlib                         3.2.2\n",
            "opencv-contrib-python            4.8.0.76\n",
            "opencv-python                    4.8.0.76\n",
            "opencv-python-headless           4.9.0.80\n",
            "openpyxl                         3.1.2\n",
            "opt-einsum                       3.3.0\n",
            "optax                            0.2.2\n",
            "orbax-checkpoint                 0.4.4\n",
            "osqp                             0.6.2.post8\n",
            "packaging                        24.0\n",
            "pandas                           2.0.3\n",
            "pandas-datareader                0.10.0\n",
            "pandas-gbq                       0.19.2\n",
            "pandas-stubs                     2.0.3.230814\n",
            "pandocfilters                    1.5.1\n",
            "panel                            1.3.8\n",
            "param                            2.1.0\n",
            "parso                            0.8.4\n",
            "parsy                            2.1\n",
            "partd                            1.4.1\n",
            "pathlib                          1.0.1\n",
            "patsy                            0.5.6\n",
            "peewee                           3.17.2\n",
            "pexpect                          4.9.0\n",
            "pickleshare                      0.7.5\n",
            "Pillow                           9.4.0\n",
            "pip                              23.1.2\n",
            "pip-tools                        6.13.0\n",
            "platformdirs                     4.2.0\n",
            "plotly                           5.15.0\n",
            "plotnine                         0.12.4\n",
            "pluggy                           1.4.0\n",
            "polars                           0.20.2\n",
            "pooch                            1.8.1\n",
            "portpicker                       1.5.2\n",
            "prefetch-generator               1.0.3\n",
            "preshed                          3.0.9\n",
            "prettytable                      3.10.0\n",
            "proglog                          0.1.10\n",
            "progressbar2                     4.2.0\n",
            "prometheus_client                0.20.0\n",
            "promise                          2.3\n",
            "prompt-toolkit                   3.0.43\n",
            "prophet                          1.1.5\n",
            "proto-plus                       1.23.0\n",
            "protobuf                         3.20.3\n",
            "psutil                           5.9.5\n",
            "psycopg2                         2.9.9\n",
            "ptyprocess                       0.7.0\n",
            "py-cpuinfo                       9.0.0\n",
            "py4j                             0.10.9.7\n",
            "pyarrow                          14.0.2\n",
            "pyarrow-hotfix                   0.6\n",
            "pyasn1                           0.6.0\n",
            "pyasn1_modules                   0.4.0\n",
            "pycocotools                      2.0.7\n",
            "pycparser                        2.22\n",
            "pydantic                         2.7.0\n",
            "pydantic_core                    2.18.1\n",
            "pydata-google-auth               1.8.2\n",
            "pydot                            1.4.2\n",
            "pydot-ng                         2.0.0\n",
            "pydotplus                        2.0.2\n",
            "PyDrive                          1.3.1\n",
            "PyDrive2                         1.6.3\n",
            "pyerfa                           2.0.1.4\n",
            "pygame                           2.5.2\n",
            "Pygments                         2.16.1\n",
            "PyGObject                        3.42.1\n",
            "PyJWT                            2.3.0\n",
            "pymc                             5.10.4\n",
            "pymystem3                        0.2.0\n",
            "PyOpenGL                         3.1.7\n",
            "pyOpenSSL                        24.1.0\n",
            "pyparsing                        3.1.2\n",
            "pyperclip                        1.8.2\n",
            "pyproj                           3.6.1\n",
            "pyproject_hooks                  1.0.0\n",
            "pyshp                            2.3.1\n",
            "PySocks                          1.7.1\n",
            "pytensor                         2.18.6\n",
            "pytest                           7.4.4\n",
            "python-apt                       0.0.0\n",
            "python-box                       7.1.1\n",
            "python-dateutil                  2.8.2\n",
            "python-louvain                   0.16\n",
            "python-slugify                   8.0.4\n",
            "python-utils                     3.8.2\n",
            "pytz                             2023.4\n",
            "pyviz_comms                      3.0.2\n",
            "PyWavelets                       1.6.0\n",
            "PyYAML                           6.0.1\n",
            "pyzmq                            23.2.1\n",
            "qdldl                            0.1.7.post1\n",
            "qudida                           0.0.4\n",
            "ratelim                          0.1.6\n",
            "referencing                      0.34.0\n",
            "regex                            2023.12.25\n",
            "requests                         2.31.0\n",
            "requests-oauthlib                1.3.1\n",
            "requirements-parser              0.9.0\n",
            "rich                             13.7.1\n",
            "rpds-py                          0.18.0\n",
            "rpy2                             3.4.2\n",
            "rsa                              4.9\n",
            "safetensors                      0.4.3\n",
            "scikit-image                     0.19.3\n",
            "scikit-learn                     1.2.2\n",
            "scipy                            1.11.4\n",
            "scooby                           0.9.2\n",
            "scs                              3.2.4.post1\n",
            "seaborn                          0.13.1\n",
            "SecretStorage                    3.3.1\n",
            "Send2Trash                       1.8.3\n",
            "sentencepiece                    0.1.99\n",
            "setuptools                       67.7.2\n",
            "shapely                          2.0.3\n",
            "six                              1.16.0\n",
            "sklearn-pandas                   2.2.0\n",
            "smart-open                       6.4.0\n",
            "sniffio                          1.3.1\n",
            "snowballstemmer                  2.2.0\n",
            "sortedcontainers                 2.4.0\n",
            "soundfile                        0.12.1\n",
            "soupsieve                        2.5\n",
            "soxr                             0.3.7\n",
            "spacy                            3.7.4\n",
            "spacy-legacy                     3.0.12\n",
            "spacy-loggers                    1.0.5\n",
            "Sphinx                           5.0.2\n",
            "sphinxcontrib-applehelp          1.0.8\n",
            "sphinxcontrib-devhelp            1.0.6\n",
            "sphinxcontrib-htmlhelp           2.0.5\n",
            "sphinxcontrib-jsmath             1.0.1\n",
            "sphinxcontrib-qthelp             1.0.7\n",
            "sphinxcontrib-serializinghtml    1.1.10\n",
            "SQLAlchemy                       2.0.29\n",
            "sqlglot                          20.11.0\n",
            "sqlparse                         0.5.0\n",
            "srsly                            2.4.8\n",
            "stanio                           0.5.0\n",
            "statsmodels                      0.14.1\n",
            "sympy                            1.12\n",
            "tables                           3.8.0\n",
            "tabulate                         0.9.0\n",
            "tbb                              2021.12.0\n",
            "tblib                            3.0.0\n",
            "tenacity                         8.2.3\n",
            "tensorboard                      2.15.2\n",
            "tensorboard-data-server          0.7.2\n",
            "tensorflow                       2.15.0\n",
            "tensorflow-datasets              4.9.4\n",
            "tensorflow-estimator             2.15.0\n",
            "tensorflow-gcs-config            2.15.0\n",
            "tensorflow-hub                   0.16.1\n",
            "tensorflow-io-gcs-filesystem     0.36.0\n",
            "tensorflow-metadata              1.14.0\n",
            "tensorflow-probability           0.23.0\n",
            "tensorstore                      0.1.45\n",
            "termcolor                        2.4.0\n",
            "terminado                        0.18.1\n",
            "text-unidecode                   1.3\n",
            "textblob                         0.17.1\n",
            "tf_keras                         2.15.1\n",
            "tf-slim                          1.1.0\n",
            "thinc                            8.2.3\n",
            "threadpoolctl                    3.4.0\n",
            "tifffile                         2024.2.12\n",
            "tinycss2                         1.2.1\n",
            "tokenizers                       0.15.2\n",
            "toml                             0.10.2\n",
            "tomli                            2.0.1\n",
            "toolz                            0.12.1\n",
            "torch                            2.2.1+cu121\n",
            "torchaudio                       2.2.1+cu121\n",
            "torchdata                        0.7.1\n",
            "torchsummary                     1.5.1\n",
            "torchtext                        0.17.1\n",
            "torchvision                      0.17.1+cu121\n",
            "tornado                          6.3.3\n",
            "tqdm                             4.66.2\n",
            "traitlets                        5.7.1\n",
            "traittypes                       0.2.1\n",
            "transformers                     4.38.2\n",
            "triton                           2.2.0\n",
            "tweepy                           4.14.0\n",
            "typer                            0.9.4\n",
            "types-pytz                       2024.1.0.20240203\n",
            "types-setuptools                 69.5.0.20240415\n",
            "typing_extensions                4.11.0\n",
            "tzdata                           2024.1\n",
            "tzlocal                          5.2\n",
            "uc-micro-py                      1.0.3\n",
            "uritemplate                      4.1.1\n",
            "urllib3                          2.0.7\n",
            "vega-datasets                    0.9.0\n",
            "wadllib                          1.3.6\n",
            "wasabi                           1.1.2\n",
            "wcwidth                          0.2.13\n",
            "weasel                           0.3.4\n",
            "webcolors                        1.13\n",
            "webencodings                     0.5.1\n",
            "websocket-client                 1.7.0\n",
            "Werkzeug                         3.0.2\n",
            "wheel                            0.43.0\n",
            "widgetsnbextension               3.6.6\n",
            "wordcloud                        1.9.3\n",
            "wrapt                            1.14.1\n",
            "xarray                           2023.7.0\n",
            "xarray-einstats                  0.7.0\n",
            "xgboost                          2.0.3\n",
            "xlrd                             2.0.1\n",
            "xyzservices                      2024.4.0\n",
            "yarl                             1.9.4\n",
            "yellowbrick                      1.5\n",
            "yfinance                         0.2.38\n",
            "zict                             3.0.0\n",
            "zipp                             3.18.1\n"
          ]
        }
      ]
    },
    {
      "cell_type": "code",
      "source": [
        "!pip uninstall jax -y"
      ],
      "metadata": {
        "colab": {
          "base_uri": "https://localhost:8080/"
        },
        "id": "d7ha4nu2AaCt",
        "outputId": "62d79984-0832-4e9d-81a3-72cd9ad2bc34"
      },
      "execution_count": 2,
      "outputs": [
        {
          "output_type": "stream",
          "name": "stdout",
          "text": [
            "Found existing installation: jax 0.4.26\n",
            "Uninstalling jax-0.4.26:\n",
            "  Successfully uninstalled jax-0.4.26\n"
          ]
        }
      ]
    },
    {
      "cell_type": "code",
      "source": [
        "!pip install tensorflow==2.15.0"
      ],
      "metadata": {
        "colab": {
          "base_uri": "https://localhost:8080/"
        },
        "id": "KpEkOlF4BMB1",
        "outputId": "20d3b1f8-727d-43ef-85fd-4751b4fd70c0"
      },
      "execution_count": 3,
      "outputs": [
        {
          "output_type": "stream",
          "name": "stdout",
          "text": [
            "Requirement already satisfied: tensorflow==2.15.0 in /usr/local/lib/python3.10/dist-packages (2.15.0)\n",
            "Requirement already satisfied: absl-py>=1.0.0 in /usr/local/lib/python3.10/dist-packages (from tensorflow==2.15.0) (1.4.0)\n",
            "Requirement already satisfied: astunparse>=1.6.0 in /usr/local/lib/python3.10/dist-packages (from tensorflow==2.15.0) (1.6.3)\n",
            "Requirement already satisfied: flatbuffers>=23.5.26 in /usr/local/lib/python3.10/dist-packages (from tensorflow==2.15.0) (24.3.25)\n",
            "Requirement already satisfied: gast!=0.5.0,!=0.5.1,!=0.5.2,>=0.2.1 in /usr/local/lib/python3.10/dist-packages (from tensorflow==2.15.0) (0.5.4)\n",
            "Requirement already satisfied: google-pasta>=0.1.1 in /usr/local/lib/python3.10/dist-packages (from tensorflow==2.15.0) (0.2.0)\n",
            "Requirement already satisfied: h5py>=2.9.0 in /usr/local/lib/python3.10/dist-packages (from tensorflow==2.15.0) (3.9.0)\n",
            "Requirement already satisfied: libclang>=13.0.0 in /usr/local/lib/python3.10/dist-packages (from tensorflow==2.15.0) (18.1.1)\n",
            "Requirement already satisfied: ml-dtypes~=0.2.0 in /usr/local/lib/python3.10/dist-packages (from tensorflow==2.15.0) (0.2.0)\n",
            "Requirement already satisfied: numpy<2.0.0,>=1.23.5 in /usr/local/lib/python3.10/dist-packages (from tensorflow==2.15.0) (1.25.2)\n",
            "Requirement already satisfied: opt-einsum>=2.3.2 in /usr/local/lib/python3.10/dist-packages (from tensorflow==2.15.0) (3.3.0)\n",
            "Requirement already satisfied: packaging in /usr/local/lib/python3.10/dist-packages (from tensorflow==2.15.0) (24.0)\n",
            "Requirement already satisfied: protobuf!=4.21.0,!=4.21.1,!=4.21.2,!=4.21.3,!=4.21.4,!=4.21.5,<5.0.0dev,>=3.20.3 in /usr/local/lib/python3.10/dist-packages (from tensorflow==2.15.0) (3.20.3)\n",
            "Requirement already satisfied: setuptools in /usr/local/lib/python3.10/dist-packages (from tensorflow==2.15.0) (67.7.2)\n",
            "Requirement already satisfied: six>=1.12.0 in /usr/local/lib/python3.10/dist-packages (from tensorflow==2.15.0) (1.16.0)\n",
            "Requirement already satisfied: termcolor>=1.1.0 in /usr/local/lib/python3.10/dist-packages (from tensorflow==2.15.0) (2.4.0)\n",
            "Requirement already satisfied: typing-extensions>=3.6.6 in /usr/local/lib/python3.10/dist-packages (from tensorflow==2.15.0) (4.11.0)\n",
            "Requirement already satisfied: wrapt<1.15,>=1.11.0 in /usr/local/lib/python3.10/dist-packages (from tensorflow==2.15.0) (1.14.1)\n",
            "Requirement already satisfied: tensorflow-io-gcs-filesystem>=0.23.1 in /usr/local/lib/python3.10/dist-packages (from tensorflow==2.15.0) (0.36.0)\n",
            "Requirement already satisfied: grpcio<2.0,>=1.24.3 in /usr/local/lib/python3.10/dist-packages (from tensorflow==2.15.0) (1.62.1)\n",
            "Requirement already satisfied: tensorboard<2.16,>=2.15 in /usr/local/lib/python3.10/dist-packages (from tensorflow==2.15.0) (2.15.2)\n",
            "Requirement already satisfied: tensorflow-estimator<2.16,>=2.15.0 in /usr/local/lib/python3.10/dist-packages (from tensorflow==2.15.0) (2.15.0)\n",
            "Requirement already satisfied: keras<2.16,>=2.15.0 in /usr/local/lib/python3.10/dist-packages (from tensorflow==2.15.0) (2.15.0)\n",
            "Requirement already satisfied: wheel<1.0,>=0.23.0 in /usr/local/lib/python3.10/dist-packages (from astunparse>=1.6.0->tensorflow==2.15.0) (0.43.0)\n",
            "Requirement already satisfied: google-auth<3,>=1.6.3 in /usr/local/lib/python3.10/dist-packages (from tensorboard<2.16,>=2.15->tensorflow==2.15.0) (2.27.0)\n",
            "Requirement already satisfied: google-auth-oauthlib<2,>=0.5 in /usr/local/lib/python3.10/dist-packages (from tensorboard<2.16,>=2.15->tensorflow==2.15.0) (1.2.0)\n",
            "Requirement already satisfied: markdown>=2.6.8 in /usr/local/lib/python3.10/dist-packages (from tensorboard<2.16,>=2.15->tensorflow==2.15.0) (3.6)\n",
            "Requirement already satisfied: requests<3,>=2.21.0 in /usr/local/lib/python3.10/dist-packages (from tensorboard<2.16,>=2.15->tensorflow==2.15.0) (2.31.0)\n",
            "Requirement already satisfied: tensorboard-data-server<0.8.0,>=0.7.0 in /usr/local/lib/python3.10/dist-packages (from tensorboard<2.16,>=2.15->tensorflow==2.15.0) (0.7.2)\n",
            "Requirement already satisfied: werkzeug>=1.0.1 in /usr/local/lib/python3.10/dist-packages (from tensorboard<2.16,>=2.15->tensorflow==2.15.0) (3.0.2)\n",
            "Requirement already satisfied: cachetools<6.0,>=2.0.0 in /usr/local/lib/python3.10/dist-packages (from google-auth<3,>=1.6.3->tensorboard<2.16,>=2.15->tensorflow==2.15.0) (5.3.3)\n",
            "Requirement already satisfied: pyasn1-modules>=0.2.1 in /usr/local/lib/python3.10/dist-packages (from google-auth<3,>=1.6.3->tensorboard<2.16,>=2.15->tensorflow==2.15.0) (0.4.0)\n",
            "Requirement already satisfied: rsa<5,>=3.1.4 in /usr/local/lib/python3.10/dist-packages (from google-auth<3,>=1.6.3->tensorboard<2.16,>=2.15->tensorflow==2.15.0) (4.9)\n",
            "Requirement already satisfied: requests-oauthlib>=0.7.0 in /usr/local/lib/python3.10/dist-packages (from google-auth-oauthlib<2,>=0.5->tensorboard<2.16,>=2.15->tensorflow==2.15.0) (1.3.1)\n",
            "Requirement already satisfied: charset-normalizer<4,>=2 in /usr/local/lib/python3.10/dist-packages (from requests<3,>=2.21.0->tensorboard<2.16,>=2.15->tensorflow==2.15.0) (3.3.2)\n",
            "Requirement already satisfied: idna<4,>=2.5 in /usr/local/lib/python3.10/dist-packages (from requests<3,>=2.21.0->tensorboard<2.16,>=2.15->tensorflow==2.15.0) (3.7)\n",
            "Requirement already satisfied: urllib3<3,>=1.21.1 in /usr/local/lib/python3.10/dist-packages (from requests<3,>=2.21.0->tensorboard<2.16,>=2.15->tensorflow==2.15.0) (2.0.7)\n",
            "Requirement already satisfied: certifi>=2017.4.17 in /usr/local/lib/python3.10/dist-packages (from requests<3,>=2.21.0->tensorboard<2.16,>=2.15->tensorflow==2.15.0) (2024.2.2)\n",
            "Requirement already satisfied: MarkupSafe>=2.1.1 in /usr/local/lib/python3.10/dist-packages (from werkzeug>=1.0.1->tensorboard<2.16,>=2.15->tensorflow==2.15.0) (2.1.5)\n",
            "Requirement already satisfied: pyasn1<0.7.0,>=0.4.6 in /usr/local/lib/python3.10/dist-packages (from pyasn1-modules>=0.2.1->google-auth<3,>=1.6.3->tensorboard<2.16,>=2.15->tensorflow==2.15.0) (0.6.0)\n",
            "Requirement already satisfied: oauthlib>=3.0.0 in /usr/local/lib/python3.10/dist-packages (from requests-oauthlib>=0.7.0->google-auth-oauthlib<2,>=0.5->tensorboard<2.16,>=2.15->tensorflow==2.15.0) (3.2.2)\n"
          ]
        }
      ]
    },
    {
      "cell_type": "code",
      "source": [
        "!python --version"
      ],
      "metadata": {
        "colab": {
          "base_uri": "https://localhost:8080/"
        },
        "id": "lJ8cy6O3BNrX",
        "outputId": "b61d7c3d-f5aa-4407-d0df-6eb0f5199eec"
      },
      "execution_count": 4,
      "outputs": [
        {
          "output_type": "stream",
          "name": "stdout",
          "text": [
            "Python 3.10.12\n"
          ]
        }
      ]
    },
    {
      "cell_type": "code",
      "source": [
        "!pip install image_to_numpy==1.0.0"
      ],
      "metadata": {
        "colab": {
          "base_uri": "https://localhost:8080/"
        },
        "id": "IDZGOmexBQxI",
        "outputId": "1d159879-7c11-420c-df3d-e503250573d5"
      },
      "execution_count": 5,
      "outputs": [
        {
          "output_type": "stream",
          "name": "stdout",
          "text": [
            "Collecting image_to_numpy==1.0.0\n",
            "  Downloading image_to_numpy-1.0.0.tar.gz (3.0 kB)\n",
            "  Preparing metadata (setup.py) ... \u001b[?25l\u001b[?25hdone\n",
            "Requirement already satisfied: pillow in /usr/local/lib/python3.10/dist-packages (from image_to_numpy==1.0.0) (9.4.0)\n",
            "Requirement already satisfied: numpy in /usr/local/lib/python3.10/dist-packages (from image_to_numpy==1.0.0) (1.25.2)\n",
            "Building wheels for collected packages: image_to_numpy\n",
            "  Building wheel for image_to_numpy (setup.py) ... \u001b[?25l\u001b[?25hdone\n",
            "  Created wheel for image_to_numpy: filename=image_to_numpy-1.0.0-py3-none-any.whl size=3456 sha256=dd3e709ea34a1f603be03a6027910411963ac282a2d145ce1da2ac963c3cddcf\n",
            "  Stored in directory: /root/.cache/pip/wheels/4c/e5/7e/f10f47129bb75abc8cd52a8abbff926b4a6121990f926cfe6d\n",
            "Successfully built image_to_numpy\n",
            "Installing collected packages: image_to_numpy\n",
            "Successfully installed image_to_numpy-1.0.0\n"
          ]
        }
      ]
    },
    {
      "cell_type": "code",
      "source": [
        "!pip install neptune==1.9.1 neptune-tensorflow-keras==2.2.2"
      ],
      "metadata": {
        "colab": {
          "base_uri": "https://localhost:8080/"
        },
        "id": "7pCWI4wEBRYH",
        "outputId": "fe68c9af-b1ba-466f-9b92-f83446345b3a"
      },
      "execution_count": 6,
      "outputs": [
        {
          "output_type": "stream",
          "name": "stdout",
          "text": [
            "Collecting neptune==1.9.1\n",
            "  Downloading neptune-1.9.1-py3-none-any.whl (495 kB)\n",
            "\u001b[2K     \u001b[90m━━━━━━━━━━━━━━━━━━━━━━━━━━━━━━━━━━━━━━━━\u001b[0m \u001b[32m495.5/495.5 kB\u001b[0m \u001b[31m8.7 MB/s\u001b[0m eta \u001b[36m0:00:00\u001b[0m\n",
            "\u001b[?25hCollecting neptune-tensorflow-keras==2.2.2\n",
            "  Downloading neptune_tensorflow_keras-2.2.2-py3-none-any.whl (12 kB)\n",
            "Collecting GitPython>=2.0.8 (from neptune==1.9.1)\n",
            "  Downloading GitPython-3.1.43-py3-none-any.whl (207 kB)\n",
            "\u001b[2K     \u001b[90m━━━━━━━━━━━━━━━━━━━━━━━━━━━━━━━━━━━━━━━━\u001b[0m \u001b[32m207.3/207.3 kB\u001b[0m \u001b[31m11.7 MB/s\u001b[0m eta \u001b[36m0:00:00\u001b[0m\n",
            "\u001b[?25hRequirement already satisfied: Pillow>=1.1.6 in /usr/local/lib/python3.10/dist-packages (from neptune==1.9.1) (9.4.0)\n",
            "Requirement already satisfied: PyJWT in /usr/lib/python3/dist-packages (from neptune==1.9.1) (2.3.0)\n",
            "Collecting boto3>=1.28.0 (from neptune==1.9.1)\n",
            "  Downloading boto3-1.34.87-py3-none-any.whl (139 kB)\n",
            "\u001b[2K     \u001b[90m━━━━━━━━━━━━━━━━━━━━━━━━━━━━━━━━━━━━━━━━\u001b[0m \u001b[32m139.3/139.3 kB\u001b[0m \u001b[31m11.7 MB/s\u001b[0m eta \u001b[36m0:00:00\u001b[0m\n",
            "\u001b[?25hCollecting bravado<12.0.0,>=11.0.0 (from neptune==1.9.1)\n",
            "  Downloading bravado-11.0.3-py2.py3-none-any.whl (38 kB)\n",
            "Requirement already satisfied: click>=7.0 in /usr/local/lib/python3.10/dist-packages (from neptune==1.9.1) (8.1.7)\n",
            "Requirement already satisfied: future>=0.17.1 in /usr/local/lib/python3.10/dist-packages (from neptune==1.9.1) (0.18.3)\n",
            "Requirement already satisfied: oauthlib>=2.1.0 in /usr/local/lib/python3.10/dist-packages (from neptune==1.9.1) (3.2.2)\n",
            "Requirement already satisfied: packaging in /usr/local/lib/python3.10/dist-packages (from neptune==1.9.1) (24.0)\n",
            "Requirement already satisfied: pandas in /usr/local/lib/python3.10/dist-packages (from neptune==1.9.1) (2.0.3)\n",
            "Requirement already satisfied: psutil in /usr/local/lib/python3.10/dist-packages (from neptune==1.9.1) (5.9.5)\n",
            "Requirement already satisfied: requests>=2.20.0 in /usr/local/lib/python3.10/dist-packages (from neptune==1.9.1) (2.31.0)\n",
            "Requirement already satisfied: requests-oauthlib>=1.0.0 in /usr/local/lib/python3.10/dist-packages (from neptune==1.9.1) (1.3.1)\n",
            "Requirement already satisfied: six>=1.12.0 in /usr/local/lib/python3.10/dist-packages (from neptune==1.9.1) (1.16.0)\n",
            "Collecting swagger-spec-validator>=2.7.4 (from neptune==1.9.1)\n",
            "  Downloading swagger_spec_validator-3.0.3-py2.py3-none-any.whl (27 kB)\n",
            "Requirement already satisfied: typing-extensions>=3.10.0 in /usr/local/lib/python3.10/dist-packages (from neptune==1.9.1) (4.11.0)\n",
            "Requirement already satisfied: urllib3 in /usr/local/lib/python3.10/dist-packages (from neptune==1.9.1) (2.0.7)\n",
            "Requirement already satisfied: websocket-client!=1.0.0,>=0.35.0 in /usr/local/lib/python3.10/dist-packages (from neptune==1.9.1) (1.7.0)\n",
            "Requirement already satisfied: tensorflow>2.0.0 in /usr/local/lib/python3.10/dist-packages (from neptune-tensorflow-keras==2.2.2) (2.15.0)\n",
            "Collecting botocore<1.35.0,>=1.34.87 (from boto3>=1.28.0->neptune==1.9.1)\n",
            "  Downloading botocore-1.34.87-py3-none-any.whl (12.2 MB)\n",
            "\u001b[2K     \u001b[90m━━━━━━━━━━━━━━━━━━━━━━━━━━━━━━━━━━━━━━━━\u001b[0m \u001b[32m12.2/12.2 MB\u001b[0m \u001b[31m58.7 MB/s\u001b[0m eta \u001b[36m0:00:00\u001b[0m\n",
            "\u001b[?25hCollecting jmespath<2.0.0,>=0.7.1 (from boto3>=1.28.0->neptune==1.9.1)\n",
            "  Downloading jmespath-1.0.1-py3-none-any.whl (20 kB)\n",
            "Collecting s3transfer<0.11.0,>=0.10.0 (from boto3>=1.28.0->neptune==1.9.1)\n",
            "  Downloading s3transfer-0.10.1-py3-none-any.whl (82 kB)\n",
            "\u001b[2K     \u001b[90m━━━━━━━━━━━━━━━━━━━━━━━━━━━━━━━━━━━━━━━━\u001b[0m \u001b[32m82.2/82.2 kB\u001b[0m \u001b[31m12.5 MB/s\u001b[0m eta \u001b[36m0:00:00\u001b[0m\n",
            "\u001b[?25hCollecting bravado-core>=5.16.1 (from bravado<12.0.0,>=11.0.0->neptune==1.9.1)\n",
            "  Downloading bravado-core-6.1.1.tar.gz (63 kB)\n",
            "\u001b[2K     \u001b[90m━━━━━━━━━━━━━━━━━━━━━━━━━━━━━━━━━━━━━━━━\u001b[0m \u001b[32m63.9/63.9 kB\u001b[0m \u001b[31m10.5 MB/s\u001b[0m eta \u001b[36m0:00:00\u001b[0m\n",
            "\u001b[?25h  Preparing metadata (setup.py) ... \u001b[?25l\u001b[?25hdone\n",
            "Requirement already satisfied: msgpack in /usr/local/lib/python3.10/dist-packages (from bravado<12.0.0,>=11.0.0->neptune==1.9.1) (1.0.8)\n",
            "Requirement already satisfied: python-dateutil in /usr/local/lib/python3.10/dist-packages (from bravado<12.0.0,>=11.0.0->neptune==1.9.1) (2.8.2)\n",
            "Requirement already satisfied: pyyaml in /usr/local/lib/python3.10/dist-packages (from bravado<12.0.0,>=11.0.0->neptune==1.9.1) (6.0.1)\n",
            "Collecting simplejson (from bravado<12.0.0,>=11.0.0->neptune==1.9.1)\n",
            "  Downloading simplejson-3.19.2-cp310-cp310-manylinux_2_5_x86_64.manylinux1_x86_64.manylinux_2_17_x86_64.manylinux2014_x86_64.whl (137 kB)\n",
            "\u001b[2K     \u001b[90m━━━━━━━━━━━━━━━━━━━━━━━━━━━━━━━━━━━━━━━━\u001b[0m \u001b[32m137.9/137.9 kB\u001b[0m \u001b[31m21.1 MB/s\u001b[0m eta \u001b[36m0:00:00\u001b[0m\n",
            "\u001b[?25hCollecting monotonic (from bravado<12.0.0,>=11.0.0->neptune==1.9.1)\n",
            "  Downloading monotonic-1.6-py2.py3-none-any.whl (8.2 kB)\n",
            "Collecting gitdb<5,>=4.0.1 (from GitPython>=2.0.8->neptune==1.9.1)\n",
            "  Downloading gitdb-4.0.11-py3-none-any.whl (62 kB)\n",
            "\u001b[2K     \u001b[90m━━━━━━━━━━━━━━━━━━━━━━━━━━━━━━━━━━━━━━━━\u001b[0m \u001b[32m62.7/62.7 kB\u001b[0m \u001b[31m8.8 MB/s\u001b[0m eta \u001b[36m0:00:00\u001b[0m\n",
            "\u001b[?25hRequirement already satisfied: charset-normalizer<4,>=2 in /usr/local/lib/python3.10/dist-packages (from requests>=2.20.0->neptune==1.9.1) (3.3.2)\n",
            "Requirement already satisfied: idna<4,>=2.5 in /usr/local/lib/python3.10/dist-packages (from requests>=2.20.0->neptune==1.9.1) (3.7)\n",
            "Requirement already satisfied: certifi>=2017.4.17 in /usr/local/lib/python3.10/dist-packages (from requests>=2.20.0->neptune==1.9.1) (2024.2.2)\n",
            "Requirement already satisfied: jsonschema in /usr/local/lib/python3.10/dist-packages (from swagger-spec-validator>=2.7.4->neptune==1.9.1) (4.19.2)\n",
            "Requirement already satisfied: absl-py>=1.0.0 in /usr/local/lib/python3.10/dist-packages (from tensorflow>2.0.0->neptune-tensorflow-keras==2.2.2) (1.4.0)\n",
            "Requirement already satisfied: astunparse>=1.6.0 in /usr/local/lib/python3.10/dist-packages (from tensorflow>2.0.0->neptune-tensorflow-keras==2.2.2) (1.6.3)\n",
            "Requirement already satisfied: flatbuffers>=23.5.26 in /usr/local/lib/python3.10/dist-packages (from tensorflow>2.0.0->neptune-tensorflow-keras==2.2.2) (24.3.25)\n",
            "Requirement already satisfied: gast!=0.5.0,!=0.5.1,!=0.5.2,>=0.2.1 in /usr/local/lib/python3.10/dist-packages (from tensorflow>2.0.0->neptune-tensorflow-keras==2.2.2) (0.5.4)\n",
            "Requirement already satisfied: google-pasta>=0.1.1 in /usr/local/lib/python3.10/dist-packages (from tensorflow>2.0.0->neptune-tensorflow-keras==2.2.2) (0.2.0)\n",
            "Requirement already satisfied: h5py>=2.9.0 in /usr/local/lib/python3.10/dist-packages (from tensorflow>2.0.0->neptune-tensorflow-keras==2.2.2) (3.9.0)\n",
            "Requirement already satisfied: libclang>=13.0.0 in /usr/local/lib/python3.10/dist-packages (from tensorflow>2.0.0->neptune-tensorflow-keras==2.2.2) (18.1.1)\n",
            "Requirement already satisfied: ml-dtypes~=0.2.0 in /usr/local/lib/python3.10/dist-packages (from tensorflow>2.0.0->neptune-tensorflow-keras==2.2.2) (0.2.0)\n",
            "Requirement already satisfied: numpy<2.0.0,>=1.23.5 in /usr/local/lib/python3.10/dist-packages (from tensorflow>2.0.0->neptune-tensorflow-keras==2.2.2) (1.25.2)\n",
            "Requirement already satisfied: opt-einsum>=2.3.2 in /usr/local/lib/python3.10/dist-packages (from tensorflow>2.0.0->neptune-tensorflow-keras==2.2.2) (3.3.0)\n",
            "Requirement already satisfied: protobuf!=4.21.0,!=4.21.1,!=4.21.2,!=4.21.3,!=4.21.4,!=4.21.5,<5.0.0dev,>=3.20.3 in /usr/local/lib/python3.10/dist-packages (from tensorflow>2.0.0->neptune-tensorflow-keras==2.2.2) (3.20.3)\n",
            "Requirement already satisfied: setuptools in /usr/local/lib/python3.10/dist-packages (from tensorflow>2.0.0->neptune-tensorflow-keras==2.2.2) (67.7.2)\n",
            "Requirement already satisfied: termcolor>=1.1.0 in /usr/local/lib/python3.10/dist-packages (from tensorflow>2.0.0->neptune-tensorflow-keras==2.2.2) (2.4.0)\n",
            "Requirement already satisfied: wrapt<1.15,>=1.11.0 in /usr/local/lib/python3.10/dist-packages (from tensorflow>2.0.0->neptune-tensorflow-keras==2.2.2) (1.14.1)\n",
            "Requirement already satisfied: tensorflow-io-gcs-filesystem>=0.23.1 in /usr/local/lib/python3.10/dist-packages (from tensorflow>2.0.0->neptune-tensorflow-keras==2.2.2) (0.36.0)\n",
            "Requirement already satisfied: grpcio<2.0,>=1.24.3 in /usr/local/lib/python3.10/dist-packages (from tensorflow>2.0.0->neptune-tensorflow-keras==2.2.2) (1.62.1)\n",
            "Requirement already satisfied: tensorboard<2.16,>=2.15 in /usr/local/lib/python3.10/dist-packages (from tensorflow>2.0.0->neptune-tensorflow-keras==2.2.2) (2.15.2)\n",
            "Requirement already satisfied: tensorflow-estimator<2.16,>=2.15.0 in /usr/local/lib/python3.10/dist-packages (from tensorflow>2.0.0->neptune-tensorflow-keras==2.2.2) (2.15.0)\n",
            "Requirement already satisfied: keras<2.16,>=2.15.0 in /usr/local/lib/python3.10/dist-packages (from tensorflow>2.0.0->neptune-tensorflow-keras==2.2.2) (2.15.0)\n",
            "Requirement already satisfied: pytz>=2020.1 in /usr/local/lib/python3.10/dist-packages (from pandas->neptune==1.9.1) (2023.4)\n",
            "Requirement already satisfied: tzdata>=2022.1 in /usr/local/lib/python3.10/dist-packages (from pandas->neptune==1.9.1) (2024.1)\n",
            "Requirement already satisfied: wheel<1.0,>=0.23.0 in /usr/local/lib/python3.10/dist-packages (from astunparse>=1.6.0->tensorflow>2.0.0->neptune-tensorflow-keras==2.2.2) (0.43.0)\n",
            "Collecting jsonref (from bravado-core>=5.16.1->bravado<12.0.0,>=11.0.0->neptune==1.9.1)\n",
            "  Downloading jsonref-1.1.0-py3-none-any.whl (9.4 kB)\n",
            "Collecting smmap<6,>=3.0.1 (from gitdb<5,>=4.0.1->GitPython>=2.0.8->neptune==1.9.1)\n",
            "  Downloading smmap-5.0.1-py3-none-any.whl (24 kB)\n",
            "Requirement already satisfied: google-auth<3,>=1.6.3 in /usr/local/lib/python3.10/dist-packages (from tensorboard<2.16,>=2.15->tensorflow>2.0.0->neptune-tensorflow-keras==2.2.2) (2.27.0)\n",
            "Requirement already satisfied: google-auth-oauthlib<2,>=0.5 in /usr/local/lib/python3.10/dist-packages (from tensorboard<2.16,>=2.15->tensorflow>2.0.0->neptune-tensorflow-keras==2.2.2) (1.2.0)\n",
            "Requirement already satisfied: markdown>=2.6.8 in /usr/local/lib/python3.10/dist-packages (from tensorboard<2.16,>=2.15->tensorflow>2.0.0->neptune-tensorflow-keras==2.2.2) (3.6)\n",
            "Requirement already satisfied: tensorboard-data-server<0.8.0,>=0.7.0 in /usr/local/lib/python3.10/dist-packages (from tensorboard<2.16,>=2.15->tensorflow>2.0.0->neptune-tensorflow-keras==2.2.2) (0.7.2)\n",
            "Requirement already satisfied: werkzeug>=1.0.1 in /usr/local/lib/python3.10/dist-packages (from tensorboard<2.16,>=2.15->tensorflow>2.0.0->neptune-tensorflow-keras==2.2.2) (3.0.2)\n",
            "Requirement already satisfied: attrs>=22.2.0 in /usr/local/lib/python3.10/dist-packages (from jsonschema->swagger-spec-validator>=2.7.4->neptune==1.9.1) (23.2.0)\n",
            "Requirement already satisfied: jsonschema-specifications>=2023.03.6 in /usr/local/lib/python3.10/dist-packages (from jsonschema->swagger-spec-validator>=2.7.4->neptune==1.9.1) (2023.12.1)\n",
            "Requirement already satisfied: referencing>=0.28.4 in /usr/local/lib/python3.10/dist-packages (from jsonschema->swagger-spec-validator>=2.7.4->neptune==1.9.1) (0.34.0)\n",
            "Requirement already satisfied: rpds-py>=0.7.1 in /usr/local/lib/python3.10/dist-packages (from jsonschema->swagger-spec-validator>=2.7.4->neptune==1.9.1) (0.18.0)\n",
            "Requirement already satisfied: cachetools<6.0,>=2.0.0 in /usr/local/lib/python3.10/dist-packages (from google-auth<3,>=1.6.3->tensorboard<2.16,>=2.15->tensorflow>2.0.0->neptune-tensorflow-keras==2.2.2) (5.3.3)\n",
            "Requirement already satisfied: pyasn1-modules>=0.2.1 in /usr/local/lib/python3.10/dist-packages (from google-auth<3,>=1.6.3->tensorboard<2.16,>=2.15->tensorflow>2.0.0->neptune-tensorflow-keras==2.2.2) (0.4.0)\n",
            "Requirement already satisfied: rsa<5,>=3.1.4 in /usr/local/lib/python3.10/dist-packages (from google-auth<3,>=1.6.3->tensorboard<2.16,>=2.15->tensorflow>2.0.0->neptune-tensorflow-keras==2.2.2) (4.9)\n",
            "Collecting fqdn (from jsonschema->swagger-spec-validator>=2.7.4->neptune==1.9.1)\n",
            "  Downloading fqdn-1.5.1-py3-none-any.whl (9.1 kB)\n",
            "Collecting isoduration (from jsonschema->swagger-spec-validator>=2.7.4->neptune==1.9.1)\n",
            "  Downloading isoduration-20.11.0-py3-none-any.whl (11 kB)\n",
            "Collecting jsonpointer>1.13 (from jsonschema->swagger-spec-validator>=2.7.4->neptune==1.9.1)\n",
            "  Downloading jsonpointer-2.4-py2.py3-none-any.whl (7.8 kB)\n",
            "Collecting rfc3339-validator (from jsonschema->swagger-spec-validator>=2.7.4->neptune==1.9.1)\n",
            "  Downloading rfc3339_validator-0.1.4-py2.py3-none-any.whl (3.5 kB)\n",
            "Collecting rfc3986-validator>0.1.0 (from jsonschema->swagger-spec-validator>=2.7.4->neptune==1.9.1)\n",
            "  Downloading rfc3986_validator-0.1.1-py2.py3-none-any.whl (4.2 kB)\n",
            "Collecting uri-template (from jsonschema->swagger-spec-validator>=2.7.4->neptune==1.9.1)\n",
            "  Downloading uri_template-1.3.0-py3-none-any.whl (11 kB)\n",
            "Requirement already satisfied: webcolors>=1.11 in /usr/local/lib/python3.10/dist-packages (from jsonschema->swagger-spec-validator>=2.7.4->neptune==1.9.1) (1.13)\n",
            "Requirement already satisfied: MarkupSafe>=2.1.1 in /usr/local/lib/python3.10/dist-packages (from werkzeug>=1.0.1->tensorboard<2.16,>=2.15->tensorflow>2.0.0->neptune-tensorflow-keras==2.2.2) (2.1.5)\n",
            "Requirement already satisfied: pyasn1<0.7.0,>=0.4.6 in /usr/local/lib/python3.10/dist-packages (from pyasn1-modules>=0.2.1->google-auth<3,>=1.6.3->tensorboard<2.16,>=2.15->tensorflow>2.0.0->neptune-tensorflow-keras==2.2.2) (0.6.0)\n",
            "Collecting arrow>=0.15.0 (from isoduration->jsonschema->swagger-spec-validator>=2.7.4->neptune==1.9.1)\n",
            "  Downloading arrow-1.3.0-py3-none-any.whl (66 kB)\n",
            "\u001b[2K     \u001b[90m━━━━━━━━━━━━━━━━━━━━━━━━━━━━━━━━━━━━━━━━\u001b[0m \u001b[32m66.4/66.4 kB\u001b[0m \u001b[31m6.5 MB/s\u001b[0m eta \u001b[36m0:00:00\u001b[0m\n",
            "\u001b[?25hCollecting types-python-dateutil>=2.8.10 (from arrow>=0.15.0->isoduration->jsonschema->swagger-spec-validator>=2.7.4->neptune==1.9.1)\n",
            "  Downloading types_python_dateutil-2.9.0.20240316-py3-none-any.whl (9.7 kB)\n",
            "Building wheels for collected packages: bravado-core\n",
            "  Building wheel for bravado-core (setup.py) ... \u001b[?25l\u001b[?25hdone\n",
            "  Created wheel for bravado-core: filename=bravado_core-6.1.1-py2.py3-none-any.whl size=67672 sha256=4658db28348354868d0351b7b99c15df088af0184b513ec51e43e4a3e068aa7c\n",
            "  Stored in directory: /root/.cache/pip/wheels/42/35/4a/44ec4c358db21a5d63ed4e40f0f0012a438106f220bce4ccba\n",
            "Successfully built bravado-core\n",
            "Installing collected packages: monotonic, uri-template, types-python-dateutil, smmap, simplejson, rfc3986-validator, rfc3339-validator, jsonref, jsonpointer, jmespath, fqdn, gitdb, botocore, arrow, s3transfer, isoduration, GitPython, swagger-spec-validator, boto3, bravado-core, neptune-tensorflow-keras, bravado, neptune\n",
            "Successfully installed GitPython-3.1.43 arrow-1.3.0 boto3-1.34.87 botocore-1.34.87 bravado-11.0.3 bravado-core-6.1.1 fqdn-1.5.1 gitdb-4.0.11 isoduration-20.11.0 jmespath-1.0.1 jsonpointer-2.4 jsonref-1.1.0 monotonic-1.6 neptune-1.9.1 neptune-tensorflow-keras-2.2.2 rfc3339-validator-0.1.4 rfc3986-validator-0.1.1 s3transfer-0.10.1 simplejson-3.19.2 smmap-5.0.1 swagger-spec-validator-3.0.3 types-python-dateutil-2.9.0.20240316 uri-template-1.3.0\n"
          ]
        }
      ]
    },
    {
      "cell_type": "code",
      "source": [
        "from google.colab import drive\n",
        "drive.mount('/content/drive')"
      ],
      "metadata": {
        "colab": {
          "base_uri": "https://localhost:8080/"
        },
        "id": "vojd7m7T043z",
        "outputId": "3c97e83e-d5fe-49ea-e5df-1cea9858fe48"
      },
      "execution_count": 7,
      "outputs": [
        {
          "output_type": "stream",
          "name": "stdout",
          "text": [
            "Mounted at /content/drive\n"
          ]
        }
      ]
    },
    {
      "cell_type": "code",
      "source": [
        "import tqdm\n",
        "import os\n",
        "import cv2\n",
        "import imghdr\n",
        "import image_to_numpy\n",
        "import numpy as np\n",
        "import seaborn as sns\n",
        "from matplotlib import pyplot as plt\n",
        "from datetime import datetime\n",
        "import itertools\n",
        "from numpy.random import default_rng\n",
        "\n",
        "import tensorflow as tf\n",
        "from tensorflow.keras.models import Sequential\n",
        "from tensorflow.keras.layers import RandomFlip, RandomRotation, RandomContrast, RandomBrightness, Rescaling, Resizing\n",
        "from tensorflow.keras.layers import Conv2D, MaxPooling2D, Flatten, Dense, Dropout, BatchNormalization, ReLU\n",
        "from tensorflow.keras.metrics import F1Score, Precision, Recall, CategoricalAccuracy\n",
        "from tensorboard.plugins.hparams import api as hp\n",
        "import sklearn\n",
        "from sklearn.metrics import classification_report,confusion_matrix\n",
        "from sklearn.model_selection import StratifiedKFold\n",
        "\n",
        "from time import perf_counter\n",
        "import math\n",
        "\n",
        "import neptune\n",
        "from neptune.integrations.tensorflow_keras import NeptuneCallback"
      ],
      "metadata": {
        "id": "iiQM5P-kBTKX"
      },
      "execution_count": 8,
      "outputs": []
    },
    {
      "cell_type": "code",
      "source": [
        "\n",
        "import numpy as np # linear algebra\n",
        "import pandas as pd # data processing, CSV file I/O (e.g. pd.read_csv)\n",
        "\n",
        "# Input data files are available in the read-only \"../input/\" directory\n",
        "# For example, running this (by clicking run or pressing Shift+Enter) will list all files under the input directory\n",
        "\n",
        "import os\n",
        "for dirname, _, filenames in os.walk('/content/drive/MyDrive/Chua_Thesis/4-600-Dataset'):\n",
        "    print(os.path.join(dirname))\n",
        "\n",
        "\n"
      ],
      "metadata": {
        "colab": {
          "base_uri": "https://localhost:8080/"
        },
        "id": "IA9ZvBxeBbvh",
        "outputId": "45779306-e927-490c-f3b0-35ca13f0679e"
      },
      "execution_count": 9,
      "outputs": [
        {
          "output_type": "stream",
          "name": "stdout",
          "text": [
            "/content/drive/MyDrive/Chua_Thesis/4-600-Dataset\n",
            "/content/drive/MyDrive/Chua_Thesis/4-600-Dataset/Road\n",
            "/content/drive/MyDrive/Chua_Thesis/4-600-Dataset/Vehicle\n",
            "/content/drive/MyDrive/Chua_Thesis/4-600-Dataset/Plant\n",
            "/content/drive/MyDrive/Chua_Thesis/4-600-Dataset/Building\n"
          ]
        }
      ]
    },
    {
      "cell_type": "code",
      "source": [
        "def make_model(params):\n",
        "    model = Sequential()\n",
        "    model.add(RandomFlip(mode='horizontal', seed=1, input_shape=(256,256,3)))\n",
        "    model.add(RandomRotation(factor=0.2, seed=1))\n",
        "\n",
        "    model.add(Conv2D(input_shape=(256,256,3), filters=16, kernel_size=(3,3), padding=\"same\"))\n",
        "    model.add(BatchNormalization(epsilon=0.0001))\n",
        "    model.add(ReLU())\n",
        "    model.add(MaxPooling2D())\n",
        "\n",
        "    model.add(Conv2D(filters=32, kernel_size=(3,3), padding=\"same\"))\n",
        "    model.add(BatchNormalization(epsilon=0.0001))\n",
        "    model.add(ReLU())\n",
        "    model.add(MaxPooling2D())\n",
        "\n",
        "    model.add(Conv2D(filters=64, kernel_size=(3,3), padding=\"same\"))\n",
        "    model.add(BatchNormalization(epsilon=0.0001))\n",
        "    model.add(ReLU())\n",
        "    model.add(MaxPooling2D())\n",
        "\n",
        "    model.add(Flatten())\n",
        "    model.add(Dropout(0.2, seed=1))\n",
        "    model.add(Dense(units=384,activation=\"relu\"))\n",
        "    model.add(Dropout(0.2, seed=1))\n",
        "    model.add(Dense(units=256,activation=\"relu\"))\n",
        "\n",
        "    model.add(Dense(units=3, activation=\"softmax\"))\n",
        "\n",
        "\n",
        "    optimizer = tf.keras.optimizers.Adam(\n",
        "        learning_rate=params[\"lr\"],\n",
        "    )\n",
        "\n",
        "    model.compile(optimizer, loss='categorical_crossentropy', metrics=['accuracy'])\n",
        "    return model"
      ],
      "metadata": {
        "id": "4ZsU9HhfBoMD"
      },
      "execution_count": 10,
      "outputs": []
    },
    {
      "cell_type": "code",
      "source": [
        "def create_callbacks(counter):\n",
        "    neptune_cbk = NeptuneCallback(run=run, base_namespace=\"training\")\n",
        "\n",
        "    cp_callback = tf.keras.callbacks.ModelCheckpoint(filepath=checkpoint_path + str(counter),\n",
        "                                                                 monitor='val_loss',\n",
        "                                                                 mode='auto',\n",
        "                                                                 save_best_only=True,\n",
        "                                                                 verbose=1)\n",
        "    es_callback = tf.keras.callbacks.EarlyStopping(monitor='val_loss',\n",
        "                                                   patience=23,\n",
        "                                                  )\n",
        "    reduce_lr = tf.keras.callbacks.ReduceLROnPlateau(monitor='val_loss',\n",
        "                                                         factor=0.6,\n",
        "                                                         patience=15,\n",
        "                                                         min_delta=0.001,\n",
        "                                                         mode='auto',\n",
        "                                                         verbose=1)\n",
        "#     return [reduce_lr, cp_callback, es_callback]\n",
        "    return [neptune_cbk, reduce_lr, cp_callback, es_callback]"
      ],
      "metadata": {
        "id": "9DQwXSlkCw4S"
      },
      "execution_count": 11,
      "outputs": []
    },
    {
      "cell_type": "code",
      "source": [
        "def plot_loss(hist):\n",
        "    fig = plt.figure(figsize=(3,2))\n",
        "    plt.plot(hist.history['loss'], color='teal', label='loss')\n",
        "    plt.plot(hist.history['val_loss'], color='orange', label='val_loss')\n",
        "    plt.suptitle('Loss')\n",
        "    plt.legend(loc='upper right')\n",
        "    plt.show()\n",
        "    return fig\n",
        "\n",
        "def plot_acc(hist):\n",
        "    fig = plt.figure(figsize=(3,2))\n",
        "    plt.plot(hist.history['accuracy'], color='teal', label='acc')\n",
        "    plt.plot(hist.history['val_accuracy'], color='orange', label='val_acc')\n",
        "    plt.suptitle('Accuracy')\n",
        "    plt.legend(loc='upper left')\n",
        "    plt.show()\n",
        "    return fig\n",
        "\n",
        "def avg_rate(metric_list):\n",
        "    return sum(metric_list) / len(metric_list)"
      ],
      "metadata": {
        "id": "jpdWdAz5Cy7h"
      },
      "execution_count": 12,
      "outputs": []
    },
    {
      "cell_type": "code",
      "source": [
        "with tf.device('/gpu:0'):\n",
        "    labels = ['Plant', 'Vehicle', 'Road']\n",
        "    X_train = []\n",
        "    y_train = []\n",
        "    y_label_idx = []\n",
        "    image_size = 256\n",
        "    for i in labels:\n",
        "        folderPath = os.path.join('/content/drive/MyDrive/Chua_Thesis/4-600-Dataset', i)\n",
        "        for j in os.listdir(folderPath):\n",
        "            img = image_to_numpy.load_image_file(os.path.join(folderPath,j))\n",
        "            img = cv2.resize(img,(image_size, image_size))\n",
        "            X_train.append(img)\n",
        "            y_label_idx.append(labels.index(i))"
      ],
      "metadata": {
        "id": "Z1QeoPGdC0Zj"
      },
      "execution_count": 13,
      "outputs": []
    },
    {
      "cell_type": "code",
      "source": [
        "X_train = np.array(X_train)\n",
        "y_label_idx = np.array(y_label_idx)\n",
        "\n",
        "X_train_scaled = X_train.astype(np.float32) / 255.0"
      ],
      "metadata": {
        "id": "B87Ir1v3C6v5"
      },
      "execution_count": 14,
      "outputs": []
    },
    {
      "cell_type": "code",
      "source": [
        "# seed ensures that the generation are the same from local and kaggle\n",
        "rng = default_rng(seed=1)\n",
        "\n",
        "plants_test_idx = rng.choice(np.arange(0,600), size=120, replace=False)\n",
        "vehicles_test_idx = rng.choice(np.arange(600,1200), size=120, replace=False)\n",
        "roads_test_idx = rng.choice(np.arange(1200,1800), size=120, replace=False)\n",
        "total_test_idx = np.concatenate((plants_test_idx, vehicles_test_idx, roads_test_idx), axis=None)\n",
        "print(total_test_idx[:20])"
      ],
      "metadata": {
        "colab": {
          "base_uri": "https://localhost:8080/"
        },
        "id": "fBrwko0DFDhg",
        "outputId": "9b1ef417-f5d6-4f49-9e16-f870330752c9"
      },
      "execution_count": 15,
      "outputs": [
        {
          "output_type": "stream",
          "name": "stdout",
          "text": [
            "[273 397 467 471 105 584 208 456  32 573 462 540 261 134 460 229 494 293\n",
            " 412 515]\n"
          ]
        }
      ]
    },
    {
      "cell_type": "code",
      "source": [
        "def train_test_X(X_train_scaled):\n",
        "    test_x = X_train_scaled[total_test_idx]\n",
        "    train_x = np.delete(X_train_scaled, total_test_idx, axis=0)\n",
        "    return train_x, test_x\n",
        "\n",
        "def train_test_y(y_label_idx):\n",
        "    test_y = y_label_idx[total_test_idx]\n",
        "    train_y = np.delete(y_label_idx, total_test_idx, axis=0)\n",
        "    return train_y, test_y"
      ],
      "metadata": {
        "id": "yE2lmGAbFcYm"
      },
      "execution_count": 16,
      "outputs": []
    },
    {
      "cell_type": "code",
      "source": [
        "train_x, holdout_x = train_test_X(X_train_scaled)\n",
        "train_y, holdout_y = train_test_y(y_label_idx)"
      ],
      "metadata": {
        "id": "WT2dpuDPFedG"
      },
      "execution_count": 17,
      "outputs": []
    },
    {
      "cell_type": "markdown",
      "source": [
        "## KFOLD"
      ],
      "metadata": {
        "id": "0th91lsBFjSG"
      }
    },
    {
      "cell_type": "code",
      "source": [
        "!mkdir MODEL"
      ],
      "metadata": {
        "id": "ERhZHFPTF2uK"
      },
      "execution_count": null,
      "outputs": []
    },
    {
      "cell_type": "code",
      "source": [
        "!ls ./"
      ],
      "metadata": {
        "id": "7Jb1L2fLFrLt"
      },
      "execution_count": null,
      "outputs": []
    },
    {
      "cell_type": "code",
      "source": [
        "model_name= 'Model 3CLS-NB-4.1.3'\n",
        "checkpoint_path = f'/content/MODEL/{model_name}/FOLD-'\n",
        "kfold = StratifiedKFold(n_splits=8, shuffle=True, random_state=1)\n",
        "project_name='New-Thesis/Kaggle-3Cls-No-Building'"
      ],
      "metadata": {
        "id": "9GeUCE_iFfst"
      },
      "execution_count": null,
      "outputs": []
    },
    {
      "cell_type": "code",
      "source": [
        "params = {\n",
        "    \"lr\": 0.001,\n",
        "    \"epochs\": 55,\n",
        "    \"batch_size\": 8}\n",
        "\n",
        "precisions = []\n",
        "recalls = []\n",
        "accuracies = []\n",
        "f1_plant = []\n",
        "f1_road = []\n",
        "f1_vcl = []\n",
        "\n",
        "with tf.device('/gpu:0'):\n",
        "    counter = 0\n",
        "    start = perf_counter()\n",
        "    for train, test in kfold.split(train_x, train_y):\n",
        "        start_fold = perf_counter()\n",
        "\n",
        "        run = neptune.init_run(\n",
        "            name= f\"{model_name}-FOLD_{counter}\",\n",
        "            project=project_name,\n",
        "            mode=\"offline\",     # To prevent issue when internet sucks. Just manually sync it\n",
        "            )  # your credentials\n",
        "\n",
        "        run[\"parameters\"] = params\n",
        "\n",
        "\n",
        "        model = make_model(params)\n",
        "        cat_y = tf.keras.utils.to_categorical(train_y)\n",
        "\n",
        "        train_dataset = tf.data.Dataset.from_tensor_slices((train_x[train], cat_y[train]))\n",
        "        train_fold = train_dataset.shuffle(buffer_size=train_dataset.cardinality(), seed=1).batch(params['batch_size'])\n",
        "\n",
        "        test_dataset = tf.data.Dataset.from_tensor_slices((train_x[test], cat_y[test]))\n",
        "        test_fold = test_dataset.shuffle(buffer_size=test_dataset.cardinality(), seed=1).batch(params['batch_size'])\n",
        "\n",
        "        hist = model.fit(train_fold,\n",
        "                         validation_data=test_fold,\n",
        "                         batch_size=params['batch_size'],\n",
        "                         epochs=params['epochs'],\n",
        "                         verbose=1,\n",
        "                         callbacks=create_callbacks(counter))\n",
        "        end_fold = perf_counter()\n",
        "\n",
        "        # PLOTTING ==================================================\n",
        "        run[\"fig-train_loss\"].upload(plot_loss(hist))\n",
        "        run[\"fig-train_acc\"].upload(plot_acc(hist))\n",
        "\n",
        "        # EVALUATING ==================================================\n",
        "        model = tf.keras.models.load_model(checkpoint_path + str(counter))\n",
        "\n",
        "        pre = Precision()\n",
        "        rec = Recall()\n",
        "        c_acc = CategoricalAccuracy()\n",
        "        f1_score = F1Score()\n",
        "        for batch in test_fold.as_numpy_iterator():\n",
        "            X, y = batch\n",
        "            yhat = model.predict(X, verbose=0)\n",
        "            pre.update_state(y, yhat)\n",
        "            rec.update_state(y, yhat)\n",
        "            c_acc.update_state(y, yhat)\n",
        "            f1_score.update_state(y, yhat)\n",
        "\n",
        "\n",
        "        precisions.append(pre.result().numpy() * 100)\n",
        "        recalls.append(rec.result().numpy() * 100)\n",
        "        accuracies.append(c_acc.result().numpy() * 100)\n",
        "        f1_s = f1_score.result().numpy() * 100\n",
        "\n",
        "        f1_plant.append(f1_s[0])\n",
        "        f1_vcl.append(f1_s[1])\n",
        "        f1_road.append(f1_s[2])\n",
        "\n",
        "        run[\"eval/ACC/\"] = accuracies[counter]\n",
        "        run[\"eval/REC/\"] = recalls[counter]\n",
        "        run[\"eval/PRE/\"] = precisions[counter]\n",
        "        run[\"eval/F1-P\"] = f1_plant[counter]\n",
        "        run[\"eval/F1-R\"] = f1_road[counter]\n",
        "        run[\"eval/F1-V\"] = f1_vcl[counter]\n",
        "\n",
        "        # SAVE MODEL TO NEPTUNE AI =======================================\n",
        "        model_save_path = f'{checkpoint_path}{counter}/{model_name}-FOLD-{counter}.keras'\n",
        "        model.save(model_save_path)\n",
        "        run['checkpoint/model'].upload(model_save_path)\n",
        "\n",
        "        # PRINTING RESULTS ===========================================\n",
        "        print(f'Fold Training Time: {math.floor((end_fold-start_fold)/3600) } hour(s) and {math.floor((end_fold-start_fold)/60)%60} mins')\n",
        "        print(f'Precision: {precisions[counter]}  -  Recall: {recalls[counter]}')\n",
        "        print(f'Accuracy: {accuracies[counter]}')\n",
        "        print(f'F1Score-P: {f1_plant[counter]}')\n",
        "        print(f'F1Score-R: {f1_road[counter]}')\n",
        "        print(f'F1Score-V: {f1_vcl[counter]}')\n",
        "\n",
        "        run.stop()\n",
        "\n",
        "        counter += 1\n",
        "\n",
        "    end = perf_counter()\n",
        "    print(f'Total Training Time: {math.floor((end-start)/3600) } hour(s) and {math.floor((end-start)/60)%60} mins')"
      ],
      "metadata": {
        "id": "hlu3-BL2GJaW"
      },
      "execution_count": null,
      "outputs": []
    },
    {
      "cell_type": "code",
      "source": [
        "print(f\"\"\"\n",
        "Avg Accuracy: {avg_rate(accuracies)}\n",
        "Avg Precision: {avg_rate(precisions)}\n",
        "Avg Recall: {avg_rate(recalls)}\n",
        "Avg F1-Score-P: {avg_rate(f1_plant)}\n",
        "Avg F1-Score-R: {avg_rate(f1_road)}\n",
        "Avg F1-Score-V: {avg_rate(f1_vcl)}\n",
        "\"\"\")"
      ],
      "metadata": {
        "id": "GfwTEUXkG7ui"
      },
      "execution_count": null,
      "outputs": []
    },
    {
      "cell_type": "code",
      "source": [
        "run = neptune.init_run(\n",
        "            name= f\"{model_name}-AVG\",\n",
        "            project=project_name,\n",
        "            mode=\"offline\",     # To prevent issue when internet sucks. Just manually sync it\n",
        "            )\n",
        "\n",
        "run[\"eval/PRE/\"] = avg_rate(precisions)\n",
        "run[\"eval/REC/\"] = avg_rate(recalls)\n",
        "run[\"eval/ACC/\"] = avg_rate(accuracies)\n",
        "run[\"eval/F1-P\"] = avg_rate(f1_plant)\n",
        "run[\"eval/F1-R\"] = avg_rate(f1_road)\n",
        "run[\"eval/F1-V\"] = avg_rate(f1_vcl)\n",
        "\n",
        "run.stop()"
      ],
      "metadata": {
        "id": "3ESw1HFPHRZA"
      },
      "execution_count": null,
      "outputs": []
    },
    {
      "cell_type": "code",
      "source": [
        "os.environ['NEPTUNE_API_TOKEN'] = \"eyJhcGlfYWRkcmVzcyI6Imh0dHBzOi8vYXBwLm5lcHR1bmUuYWkiLCJhcGlfdXJsIjoiaHR0cHM6Ly9hcHAubmVwdHVuZS5haSIsImFwaV9rZXkiOiJiM2YzNGEwOC1iNmYyLTQ3YTEtYTljNi0xOWNmYWE0ZjZjOTMifQ==\""
      ],
      "metadata": {
        "id": "cIZe7qcjHfix"
      },
      "execution_count": null,
      "outputs": []
    },
    {
      "cell_type": "code",
      "source": [],
      "metadata": {
        "id": "aSY__LZ0Ag1r"
      },
      "execution_count": null,
      "outputs": []
    },
    {
      "cell_type": "code",
      "source": [],
      "metadata": {
        "id": "BAc85Y0EAgQu"
      },
      "execution_count": null,
      "outputs": []
    },
    {
      "cell_type": "code",
      "source": [
        "!neptune sync -p 'New-Thesis/Kaggle-3Cls-No-Building' --offline-only\n"
      ],
      "metadata": {
        "id": "ibV2b2ikHgLm"
      },
      "execution_count": null,
      "outputs": []
    },
    {
      "cell_type": "code",
      "source": [
        "!neptune clear\n"
      ],
      "metadata": {
        "id": "eRCqebYgHm00"
      },
      "execution_count": null,
      "outputs": []
    },
    {
      "cell_type": "code",
      "source": [
        "!rm -r \"/content/MODEL/Model 3CLS-NB-4.1.3\""
      ],
      "metadata": {
        "id": "bAa3G_QIZ4sR"
      },
      "execution_count": null,
      "outputs": []
    },
    {
      "cell_type": "code",
      "source": [
        "##"
      ],
      "metadata": {
        "id": "3k4vb8-zOafE"
      },
      "execution_count": null,
      "outputs": []
    },
    {
      "cell_type": "markdown",
      "source": [
        "## TRAIN Final Model"
      ],
      "metadata": {
        "id": "r8WSqQ94Ob3z"
      }
    },
    {
      "cell_type": "code",
      "source": [
        "def make_model_final(params):\n",
        "    model = Sequential()\n",
        "    model.add(RandomFlip(mode='horizontal', seed=1, input_shape=(256,256,3)))\n",
        "    model.add(RandomRotation(factor=0.2, seed=1))\n",
        "\n",
        "    model.add(Conv2D(input_shape=(256,256,3), filters=16, kernel_size=(3,3), padding=\"same\"))\n",
        "    model.add(BatchNormalization())\n",
        "    model.add(ReLU())\n",
        "    model.add(MaxPooling2D())\n",
        "\n",
        "    model.add(Conv2D(filters=16, kernel_size=(3,3), padding=\"same\"))\n",
        "    model.add(BatchNormalization())\n",
        "    model.add(ReLU())\n",
        "    model.add(MaxPooling2D())\n",
        "\n",
        "    model.add(Conv2D(filters=32, kernel_size=(3,3), padding=\"same\"))\n",
        "    model.add(BatchNormalization())\n",
        "    model.add(ReLU())\n",
        "    model.add(MaxPooling2D())\n",
        "\n",
        "    model.add(Flatten())\n",
        "    model.add(Dropout(0.2, seed=1))\n",
        "    model.add(Dense(units=128,activation=\"relu\"))\n",
        "    model.add(Dense(units=64,activation=\"relu\"))\n",
        "\n",
        "    model.add(Dense(units=3, activation=\"softmax\"))\n",
        "\n",
        "\n",
        "    optimizer = tf.keras.optimizers.Adam(\n",
        "        learning_rate=params[\"lr\"],\n",
        "    )\n",
        "\n",
        "    model.compile(optimizer, loss='categorical_crossentropy', metrics=['accuracy'])\n",
        "    return model"
      ],
      "metadata": {
        "id": "Gb3D4q-COeL4"
      },
      "execution_count": 18,
      "outputs": []
    },
    {
      "cell_type": "code",
      "source": [
        "def create_callbacks_final():\n",
        "    neptune_cbk = NeptuneCallback(run=run, base_namespace=\"training\")\n",
        "\n",
        "    cp_callback = tf.keras.callbacks.ModelCheckpoint(filepath=final_checkpoint_path,\n",
        "                                                                 monitor='val_loss',\n",
        "                                                                 mode='auto',\n",
        "                                                                 save_best_only=True,\n",
        "                                                                 verbose=1)\n",
        "    es_callback = tf.keras.callbacks.EarlyStopping(monitor='val_loss',\n",
        "                                                   patience=15,\n",
        "                                                  )\n",
        "    reduce_lr = tf.keras.callbacks.ReduceLROnPlateau(monitor='val_loss',\n",
        "                                                         factor=0.6,\n",
        "                                                         patience=5,\n",
        "                                                         min_delta=0.001,\n",
        "                                                         mode='auto',\n",
        "                                                         verbose=1)\n",
        "    return [neptune_cbk, reduce_lr, cp_callback, es_callback]"
      ],
      "metadata": {
        "id": "0_CKiH_MOo6T"
      },
      "execution_count": 19,
      "outputs": []
    },
    {
      "cell_type": "code",
      "source": [
        "def plot_loss_final(hist):\n",
        "    fig = plt.figure(figsize=(3,2))\n",
        "    plt.plot(hist.history['loss'], color='teal', label='loss')\n",
        "    plt.plot(hist.history['val_loss'], color='orange', label='val_loss')\n",
        "    plt.suptitle('Loss')\n",
        "    plt.legend(loc='upper right')\n",
        "    plt.show()\n",
        "    return fig\n",
        "\n",
        "def plot_acc_final(hist):\n",
        "    fig = plt.figure(figsize=(3,2))\n",
        "    plt.plot(hist.history['accuracy'], color='teal', label='acc')\n",
        "    plt.plot(hist.history['val_accuracy'], color='orange', label='val_acc')\n",
        "    plt.suptitle('Accuracy')\n",
        "    plt.legend(loc='upper left')\n",
        "    plt.show()\n",
        "    return fig\n",
        "\n",
        "def avg_rate(metric_list):\n",
        "    return sum(metric_list) / len(metric_list)"
      ],
      "metadata": {
        "id": "EEhv9-n3O3yA"
      },
      "execution_count": 20,
      "outputs": []
    },
    {
      "cell_type": "code",
      "source": [
        "final_model = \"Final-3CLS-NB-4_0_1\"\n",
        "final_checkpoint_path = f'./checkpoints/{final_model}/'\n",
        "params = {\n",
        "    \"lr\": 0.001,\n",
        "    \"epochs\": 55,\n",
        "    \"batch_size\": 8}\n",
        "project_name='New-Thesis/Kaggle-3Cls-No-Building'"
      ],
      "metadata": {
        "id": "5-kCiAzhO5do"
      },
      "execution_count": 21,
      "outputs": []
    },
    {
      "cell_type": "code",
      "source": [
        "train_y_final = tf.keras.utils.to_categorical(train_y)\n",
        "train_dataset = tf.data.Dataset.from_tensor_slices((train_x, train_y_final))\n",
        "compiled_train_dataset  = train_dataset.shuffle(buffer_size=train_dataset.cardinality(), seed=1).batch(params['batch_size'])\n",
        "\n",
        "holdout_y_final = tf.keras.utils.to_categorical(holdout_y)\n",
        "test_dataset = tf.data.Dataset.from_tensor_slices((holdout_x, holdout_y_final))\n",
        "holdout_test_dataset = test_dataset.shuffle(buffer_size=test_dataset.cardinality(), seed=1).batch(params['batch_size'])\n"
      ],
      "metadata": {
        "id": "XO8bpNwgPF3R"
      },
      "execution_count": 22,
      "outputs": []
    },
    {
      "cell_type": "code",
      "source": [
        "run = neptune.init_run(\n",
        "        name= f\"{final_model}\",\n",
        "        project=project_name,\n",
        "        mode=\"offline\"     # To prevent issue when internet sucks. Just manually sync it\n",
        "    )  # your credentials\n",
        "\n",
        "run[\"parameters\"] = params\n",
        "model = make_model_final(params)"
      ],
      "metadata": {
        "colab": {
          "base_uri": "https://localhost:8080/"
        },
        "id": "LmWkQ4PaPHHS",
        "outputId": "53666798-2826-42a6-9eec-f57e26fc6807"
      },
      "execution_count": 23,
      "outputs": [
        {
          "output_type": "stream",
          "name": "stdout",
          "text": [
            "[neptune] [info   ] Neptune initialized. Open in the app: offline/346a3291-287f-493d-bf26-567b4a82fa49\n"
          ]
        },
        {
          "output_type": "stream",
          "name": "stderr",
          "text": [
            "[neptune] [warning] NeptuneWarning: The following monitoring options are disabled by default in interactive sessions: 'capture_stdout', 'capture_stderr', 'capture_traceback', and 'capture_hardware_metrics'. To enable them, set each parameter to 'True' when initializing the run. The monitoring will continue until you call run.stop() or the kernel stops. Also note: Your source files can only be tracked if you pass the path(s) to the 'source_code' argument. For help, see the Neptune docs: https://docs.neptune.ai/logging/source_code/\n"
          ]
        }
      ]
    },
    {
      "cell_type": "code",
      "source": [
        "start = perf_counter()\n",
        "hist = model.fit(compiled_train_dataset,\n",
        "                 validation_data=holdout_test_dataset,\n",
        "                 batch_size=params['batch_size'],\n",
        "                 epochs=params['epochs'],\n",
        "                 verbose=1,\n",
        "                 callbacks=create_callbacks_final())\n",
        "end = perf_counter()\n",
        "\n"
      ],
      "metadata": {
        "colab": {
          "base_uri": "https://localhost:8080/"
        },
        "id": "TvDw5orfPILg",
        "outputId": "f9621338-c980-49d7-fa7a-f6a7024ce817"
      },
      "execution_count": 24,
      "outputs": [
        {
          "output_type": "stream",
          "name": "stdout",
          "text": [
            "Epoch 1/55\n",
            "179/180 [============================>.] - ETA: 0s - loss: 1.8880 - accuracy: 0.7472\n",
            "Epoch 1: val_loss improved from inf to 3.89070, saving model to ./checkpoints/Final-3CLS-NB-4_0_1/\n",
            "180/180 [==============================] - 15s 39ms/step - loss: 1.8775 - accuracy: 0.7486 - val_loss: 3.8907 - val_accuracy: 0.3333 - lr: 0.0010\n",
            "Epoch 2/55\n",
            "180/180 [==============================] - ETA: 0s - loss: 0.4900 - accuracy: 0.8674\n",
            "Epoch 2: val_loss improved from 3.89070 to 1.36588, saving model to ./checkpoints/Final-3CLS-NB-4_0_1/\n",
            "180/180 [==============================] - 5s 26ms/step - loss: 0.4900 - accuracy: 0.8674 - val_loss: 1.3659 - val_accuracy: 0.5694 - lr: 0.0010\n",
            "Epoch 3/55\n",
            "179/180 [============================>.] - ETA: 0s - loss: 0.3421 - accuracy: 0.8925\n",
            "Epoch 3: val_loss improved from 1.36588 to 0.21689, saving model to ./checkpoints/Final-3CLS-NB-4_0_1/\n",
            "180/180 [==============================] - 4s 25ms/step - loss: 0.3410 - accuracy: 0.8924 - val_loss: 0.2169 - val_accuracy: 0.9167 - lr: 0.0010\n",
            "Epoch 4/55\n",
            "177/180 [============================>.] - ETA: 0s - loss: 0.2811 - accuracy: 0.9160\n",
            "Epoch 4: val_loss did not improve from 0.21689\n",
            "180/180 [==============================] - 3s 15ms/step - loss: 0.2771 - accuracy: 0.9174 - val_loss: 0.7372 - val_accuracy: 0.8000 - lr: 0.0010\n",
            "Epoch 5/55\n",
            "177/180 [============================>.] - ETA: 0s - loss: 0.2559 - accuracy: 0.9131\n",
            "Epoch 5: val_loss did not improve from 0.21689\n",
            "180/180 [==============================] - 3s 16ms/step - loss: 0.2558 - accuracy: 0.9125 - val_loss: 0.7799 - val_accuracy: 0.7694 - lr: 0.0010\n",
            "Epoch 6/55\n",
            "179/180 [============================>.] - ETA: 0s - loss: 0.2715 - accuracy: 0.9085\n",
            "Epoch 6: val_loss did not improve from 0.21689\n",
            "180/180 [==============================] - 2s 13ms/step - loss: 0.2700 - accuracy: 0.9090 - val_loss: 0.8411 - val_accuracy: 0.7306 - lr: 0.0010\n",
            "Epoch 7/55\n",
            "178/180 [============================>.] - ETA: 0s - loss: 0.2074 - accuracy: 0.9291\n",
            "Epoch 7: val_loss did not improve from 0.21689\n",
            "180/180 [==============================] - 2s 13ms/step - loss: 0.2060 - accuracy: 0.9299 - val_loss: 0.3323 - val_accuracy: 0.8889 - lr: 0.0010\n",
            "Epoch 8/55\n",
            "178/180 [============================>.] - ETA: 0s - loss: 0.2411 - accuracy: 0.9178\n",
            "Epoch 8: val_loss improved from 0.21689 to 0.20804, saving model to ./checkpoints/Final-3CLS-NB-4_0_1/\n",
            "180/180 [==============================] - 10s 56ms/step - loss: 0.2443 - accuracy: 0.9181 - val_loss: 0.2080 - val_accuracy: 0.9167 - lr: 0.0010\n",
            "Epoch 9/55\n",
            "178/180 [============================>.] - ETA: 0s - loss: 0.2064 - accuracy: 0.9326\n",
            "Epoch 9: val_loss did not improve from 0.20804\n",
            "180/180 [==============================] - 4s 22ms/step - loss: 0.2054 - accuracy: 0.9326 - val_loss: 1.0071 - val_accuracy: 0.6917 - lr: 0.0010\n",
            "Epoch 10/55\n",
            "178/180 [============================>.] - ETA: 0s - loss: 0.1787 - accuracy: 0.9382\n",
            "Epoch 10: val_loss did not improve from 0.20804\n",
            "180/180 [==============================] - 4s 22ms/step - loss: 0.1773 - accuracy: 0.9389 - val_loss: 0.2998 - val_accuracy: 0.8833 - lr: 0.0010\n",
            "Epoch 11/55\n",
            "178/180 [============================>.] - ETA: 0s - loss: 0.1581 - accuracy: 0.9473\n",
            "Epoch 11: val_loss did not improve from 0.20804\n",
            "180/180 [==============================] - 5s 30ms/step - loss: 0.1568 - accuracy: 0.9479 - val_loss: 0.3254 - val_accuracy: 0.8861 - lr: 0.0010\n",
            "Epoch 12/55\n",
            "179/180 [============================>.] - ETA: 0s - loss: 0.1481 - accuracy: 0.9504\n",
            "Epoch 12: val_loss did not improve from 0.20804\n",
            "180/180 [==============================] - 3s 14ms/step - loss: 0.1475 - accuracy: 0.9507 - val_loss: 1.0897 - val_accuracy: 0.6528 - lr: 0.0010\n",
            "Epoch 13/55\n",
            "178/180 [============================>.] - ETA: 0s - loss: 0.1451 - accuracy: 0.9473\n",
            "Epoch 13: ReduceLROnPlateau reducing learning rate to 0.0006000000284984708.\n",
            "\n",
            "Epoch 13: val_loss did not improve from 0.20804\n",
            "180/180 [==============================] - 2s 13ms/step - loss: 0.1481 - accuracy: 0.9451 - val_loss: 0.6485 - val_accuracy: 0.8167 - lr: 0.0010\n",
            "Epoch 14/55\n",
            "180/180 [==============================] - ETA: 0s - loss: 0.1237 - accuracy: 0.9535\n",
            "Epoch 14: val_loss did not improve from 0.20804\n",
            "180/180 [==============================] - 4s 21ms/step - loss: 0.1237 - accuracy: 0.9535 - val_loss: 0.2492 - val_accuracy: 0.9000 - lr: 6.0000e-04\n",
            "Epoch 15/55\n",
            "180/180 [==============================] - ETA: 0s - loss: 0.1100 - accuracy: 0.9625\n",
            "Epoch 15: val_loss did not improve from 0.20804\n",
            "180/180 [==============================] - 4s 22ms/step - loss: 0.1100 - accuracy: 0.9625 - val_loss: 0.2651 - val_accuracy: 0.9028 - lr: 6.0000e-04\n",
            "Epoch 16/55\n",
            "179/180 [============================>.] - ETA: 0s - loss: 0.1189 - accuracy: 0.9574\n",
            "Epoch 16: val_loss did not improve from 0.20804\n",
            "180/180 [==============================] - 2s 13ms/step - loss: 0.1183 - accuracy: 0.9576 - val_loss: 0.6518 - val_accuracy: 0.8306 - lr: 6.0000e-04\n",
            "Epoch 17/55\n",
            "179/180 [============================>.] - ETA: 0s - loss: 0.0847 - accuracy: 0.9749\n",
            "Epoch 17: val_loss did not improve from 0.20804\n",
            "180/180 [==============================] - 2s 13ms/step - loss: 0.0842 - accuracy: 0.9750 - val_loss: 0.2863 - val_accuracy: 0.9139 - lr: 6.0000e-04\n",
            "Epoch 18/55\n",
            "179/180 [============================>.] - ETA: 0s - loss: 0.1569 - accuracy: 0.9420\n",
            "Epoch 18: ReduceLROnPlateau reducing learning rate to 0.0003600000170990825.\n",
            "\n",
            "Epoch 18: val_loss did not improve from 0.20804\n",
            "180/180 [==============================] - 2s 13ms/step - loss: 0.1569 - accuracy: 0.9417 - val_loss: 3.5253 - val_accuracy: 0.5278 - lr: 6.0000e-04\n",
            "Epoch 19/55\n",
            "177/180 [============================>.] - ETA: 0s - loss: 0.0810 - accuracy: 0.9710\n",
            "Epoch 19: val_loss did not improve from 0.20804\n",
            "180/180 [==============================] - 3s 15ms/step - loss: 0.0806 - accuracy: 0.9708 - val_loss: 0.8594 - val_accuracy: 0.7417 - lr: 3.6000e-04\n",
            "Epoch 20/55\n",
            "179/180 [============================>.] - ETA: 0s - loss: 0.0878 - accuracy: 0.9651\n",
            "Epoch 20: val_loss did not improve from 0.20804\n",
            "180/180 [==============================] - 2s 12ms/step - loss: 0.0873 - accuracy: 0.9653 - val_loss: 0.3000 - val_accuracy: 0.9139 - lr: 3.6000e-04\n",
            "Epoch 21/55\n",
            "179/180 [============================>.] - ETA: 0s - loss: 0.0833 - accuracy: 0.9700\n",
            "Epoch 21: val_loss did not improve from 0.20804\n",
            "180/180 [==============================] - 2s 12ms/step - loss: 0.0829 - accuracy: 0.9701 - val_loss: 0.2474 - val_accuracy: 0.9222 - lr: 3.6000e-04\n",
            "Epoch 22/55\n",
            "179/180 [============================>.] - ETA: 0s - loss: 0.0920 - accuracy: 0.9700\n",
            "Epoch 22: val_loss improved from 0.20804 to 0.11661, saving model to ./checkpoints/Final-3CLS-NB-4_0_1/\n",
            "180/180 [==============================] - 5s 28ms/step - loss: 0.0915 - accuracy: 0.9701 - val_loss: 0.1166 - val_accuracy: 0.9694 - lr: 3.6000e-04\n",
            "Epoch 23/55\n",
            "180/180 [==============================] - ETA: 0s - loss: 0.0915 - accuracy: 0.9688\n",
            "Epoch 23: val_loss did not improve from 0.11661\n",
            "180/180 [==============================] - 3s 17ms/step - loss: 0.0915 - accuracy: 0.9688 - val_loss: 0.2099 - val_accuracy: 0.9444 - lr: 3.6000e-04\n",
            "Epoch 24/55\n",
            "180/180 [==============================] - ETA: 0s - loss: 0.0750 - accuracy: 0.9722\n",
            "Epoch 24: val_loss did not improve from 0.11661\n",
            "180/180 [==============================] - 3s 17ms/step - loss: 0.0750 - accuracy: 0.9722 - val_loss: 0.2162 - val_accuracy: 0.9306 - lr: 3.6000e-04\n",
            "Epoch 25/55\n",
            "177/180 [============================>.] - ETA: 0s - loss: 0.0645 - accuracy: 0.9739\n",
            "Epoch 25: val_loss did not improve from 0.11661\n",
            "180/180 [==============================] - 3s 15ms/step - loss: 0.0646 - accuracy: 0.9736 - val_loss: 0.1672 - val_accuracy: 0.9500 - lr: 3.6000e-04\n",
            "Epoch 26/55\n",
            "176/180 [============================>.] - ETA: 0s - loss: 0.0883 - accuracy: 0.9680\n",
            "Epoch 26: val_loss did not improve from 0.11661\n",
            "180/180 [==============================] - 2s 12ms/step - loss: 0.0872 - accuracy: 0.9681 - val_loss: 0.1877 - val_accuracy: 0.9306 - lr: 3.6000e-04\n",
            "Epoch 27/55\n",
            "179/180 [============================>.] - ETA: 0s - loss: 0.0804 - accuracy: 0.9714\n",
            "Epoch 27: ReduceLROnPlateau reducing learning rate to 0.00021600000327453016.\n",
            "\n",
            "Epoch 27: val_loss did not improve from 0.11661\n",
            "180/180 [==============================] - 3s 18ms/step - loss: 0.0800 - accuracy: 0.9715 - val_loss: 0.2072 - val_accuracy: 0.9389 - lr: 3.6000e-04\n",
            "Epoch 28/55\n",
            "177/180 [============================>.] - ETA: 0s - loss: 0.0548 - accuracy: 0.9788\n",
            "Epoch 28: val_loss did not improve from 0.11661\n",
            "180/180 [==============================] - 2s 13ms/step - loss: 0.0552 - accuracy: 0.9792 - val_loss: 0.2805 - val_accuracy: 0.9083 - lr: 2.1600e-04\n",
            "Epoch 29/55\n",
            "179/180 [============================>.] - ETA: 0s - loss: 0.0433 - accuracy: 0.9853\n",
            "Epoch 29: val_loss did not improve from 0.11661\n",
            "180/180 [==============================] - 2s 13ms/step - loss: 0.0431 - accuracy: 0.9854 - val_loss: 0.1954 - val_accuracy: 0.9500 - lr: 2.1600e-04\n",
            "Epoch 30/55\n",
            "180/180 [==============================] - ETA: 0s - loss: 0.0508 - accuracy: 0.9833\n",
            "Epoch 30: val_loss did not improve from 0.11661\n",
            "180/180 [==============================] - 2s 12ms/step - loss: 0.0508 - accuracy: 0.9833 - val_loss: 0.2835 - val_accuracy: 0.9139 - lr: 2.1600e-04\n",
            "Epoch 31/55\n",
            "178/180 [============================>.] - ETA: 0s - loss: 0.0544 - accuracy: 0.9831\n",
            "Epoch 31: val_loss did not improve from 0.11661\n",
            "180/180 [==============================] - 2s 12ms/step - loss: 0.0541 - accuracy: 0.9833 - val_loss: 0.1569 - val_accuracy: 0.9444 - lr: 2.1600e-04\n",
            "Epoch 32/55\n",
            "177/180 [============================>.] - ETA: 0s - loss: 0.0469 - accuracy: 0.9859\n",
            "Epoch 32: ReduceLROnPlateau reducing learning rate to 0.00012960000021848827.\n",
            "\n",
            "Epoch 32: val_loss did not improve from 0.11661\n",
            "180/180 [==============================] - 3s 14ms/step - loss: 0.0470 - accuracy: 0.9854 - val_loss: 0.3142 - val_accuracy: 0.9139 - lr: 2.1600e-04\n",
            "Epoch 33/55\n",
            "180/180 [==============================] - ETA: 0s - loss: 0.0526 - accuracy: 0.9799\n",
            "Epoch 33: val_loss did not improve from 0.11661\n",
            "180/180 [==============================] - 3s 16ms/step - loss: 0.0526 - accuracy: 0.9799 - val_loss: 0.1685 - val_accuracy: 0.9500 - lr: 1.2960e-04\n",
            "Epoch 34/55\n",
            "177/180 [============================>.] - ETA: 0s - loss: 0.0582 - accuracy: 0.9838\n",
            "Epoch 34: val_loss did not improve from 0.11661\n",
            "180/180 [==============================] - 2s 13ms/step - loss: 0.0578 - accuracy: 0.9840 - val_loss: 0.3772 - val_accuracy: 0.8917 - lr: 1.2960e-04\n",
            "Epoch 35/55\n",
            "176/180 [============================>.] - ETA: 0s - loss: 0.0462 - accuracy: 0.9844\n",
            "Epoch 35: val_loss did not improve from 0.11661\n",
            "180/180 [==============================] - 2s 13ms/step - loss: 0.0453 - accuracy: 0.9847 - val_loss: 0.1542 - val_accuracy: 0.9556 - lr: 1.2960e-04\n",
            "Epoch 36/55\n",
            "178/180 [============================>.] - ETA: 0s - loss: 0.0485 - accuracy: 0.9853\n",
            "Epoch 36: val_loss did not improve from 0.11661\n",
            "180/180 [==============================] - 2s 12ms/step - loss: 0.0483 - accuracy: 0.9854 - val_loss: 0.2270 - val_accuracy: 0.9333 - lr: 1.2960e-04\n",
            "Epoch 37/55\n",
            "179/180 [============================>.] - ETA: 0s - loss: 0.0357 - accuracy: 0.9888\n",
            "Epoch 37: ReduceLROnPlateau reducing learning rate to 7.775999838486313e-05.\n",
            "\n",
            "Epoch 37: val_loss did not improve from 0.11661\n",
            "180/180 [==============================] - 3s 18ms/step - loss: 0.0356 - accuracy: 0.9889 - val_loss: 0.2092 - val_accuracy: 0.9417 - lr: 1.2960e-04\n"
          ]
        }
      ]
    },
    {
      "cell_type": "code",
      "source": [
        "# EVALUATING ==================================================\n",
        "model = tf.keras.models.load_model(final_checkpoint_path)\n",
        "\n",
        "pre = Precision()\n",
        "rec = Recall()\n",
        "c_acc = CategoricalAccuracy()\n",
        "f1_score = F1Score()\n",
        "for batch in holdout_test_dataset.as_numpy_iterator():\n",
        "    X, y = batch\n",
        "    yhat = model.predict(X, verbose=0)\n",
        "    pre.update_state(y, yhat)\n",
        "    rec.update_state(y, yhat)\n",
        "    c_acc.update_state(y, yhat)\n",
        "    f1_score.update_state(y, yhat)\n",
        "\n",
        "precision = pre.result().numpy() * 100\n",
        "recall = rec.result().numpy() * 100\n",
        "accuracy = c_acc.result().numpy() * 100\n",
        "f1_s = f1_score.result().numpy() * 100\n",
        "\n",
        "f1_p = f1_s[0]\n",
        "f1_v = f1_s[1]\n",
        "f1_r = f1_s[2]\n",
        "\n",
        "run[\"eval/ACC/\"] = accuracy\n",
        "run[\"eval/REC/\"] = recall\n",
        "run[\"eval/PRE/\"] = precision\n",
        "run[\"eval/F1-P\"] = f1_p\n",
        "run[\"eval/F1-V\"] = f1_v\n",
        "run[\"eval/F1-R\"] = f1_r\n",
        "\n",
        "\n",
        "# SAVE MODEL TO NEPTUNE AI =======================================\n",
        "model_save_path = f'./{final_model}.keras'\n",
        "model.save(model_save_path)\n",
        "run['checkpoint/model'].upload(model_save_path)\n",
        "\n",
        "# PRINTING RESULTS ===========================================\n",
        "print(f'Fold Training Time: {math.floor((end-start)/3600) } hour(s) and {math.floor((end-start)/60)%60} mins')\n",
        "print(f'Precision: {precision}  -  Recall: {recall}')\n",
        "print(f'Accuracy: {accuracy}')\n",
        "print(f'F1Score-P: {f1_p}')\n",
        "print(f'F1Score-V: {f1_v}')\n",
        "print(f'F1Score-R: {f1_r}')"
      ],
      "metadata": {
        "colab": {
          "base_uri": "https://localhost:8080/"
        },
        "id": "CA6fI1SNPKF_",
        "outputId": "014bf0de-a68c-4add-e7d1-889e5b55f1d1"
      },
      "execution_count": 25,
      "outputs": [
        {
          "output_type": "stream",
          "name": "stdout",
          "text": [
            "Fold Training Time: 0 hour(s) and 2 mins\n",
            "Precision: 96.94444537162781  -  Recall: 96.94444537162781\n",
            "Accuracy: 96.94444537162781\n",
            "F1Score-P: 95.83332824707031\n",
            "F1Score-V: 97.5\n",
            "F1Score-R: 97.5\n"
          ]
        }
      ]
    },
    {
      "cell_type": "code",
      "source": [
        "run[\"fig-train_loss\"].upload(plot_loss(hist))\n",
        "run[\"fig-train_acc\"].upload(plot_acc(hist))"
      ],
      "metadata": {
        "colab": {
          "base_uri": "https://localhost:8080/",
          "height": 451
        },
        "id": "d7VWhawzSwox",
        "outputId": "3fa30c02-c54e-43fc-cf65-5c2d8d6ea066"
      },
      "execution_count": 26,
      "outputs": [
        {
          "output_type": "display_data",
          "data": {
            "text/plain": [
              "<Figure size 300x200 with 1 Axes>"
            ],
            "image/png": "[encoded data removed]"
          },
          "metadata": {}
        },
        {
          "output_type": "display_data",
          "data": {
            "text/plain": [
              "<Figure size 300x200 with 1 Axes>"
            ],
            "image/png": "[encoded data removed]"
          },
          "metadata": {}
        }
      ]
    },
    {
      "cell_type": "code",
      "source": [
        "run.stop()"
      ],
      "metadata": {
        "colab": {
          "base_uri": "https://localhost:8080/"
        },
        "id": "Qzx8Xi19S2Ug",
        "outputId": "c598759e-80a6-49a6-aa20-f54b0e1a527b"
      },
      "execution_count": 27,
      "outputs": [
        {
          "output_type": "stream",
          "name": "stdout",
          "text": [
            "[neptune] [info   ] Shutting down background jobs, please wait a moment...\n",
            "[neptune] [info   ] Done!\n"
          ]
        }
      ]
    },
    {
      "cell_type": "code",
      "source": [
        "model.save_weights(f\"./weights/{final_model}\")"
      ],
      "metadata": {
        "id": "fxGjLcK_OxD9"
      },
      "execution_count": 28,
      "outputs": []
    },
    {
      "cell_type": "code",
      "source": [],
      "metadata": {
        "id": "euaNC4qvUI3-"
      },
      "execution_count": 28,
      "outputs": []
    },
    {
      "cell_type": "code",
      "source": [
        "!zip -r Final-3CLS-NB-4_0_1.zip ./weights"
      ],
      "metadata": {
        "colab": {
          "base_uri": "https://localhost:8080/"
        },
        "id": "dbolRk6oPMsK",
        "outputId": "3065133d-7269-444f-d0de-034bcfa986d3"
      },
      "execution_count": 29,
      "outputs": [
        {
          "output_type": "stream",
          "name": "stdout",
          "text": [
            "  adding: weights/ (stored 0%)\n",
            "  adding: weights/Final-3CLS-NB-4_0_1.data-00000-of-00001 (deflated 7%)\n",
            "  adding: weights/checkpoint (deflated 40%)\n",
            "  adding: weights/Final-3CLS-NB-4_0_1.index (deflated 61%)\n"
          ]
        }
      ]
    },
    {
      "cell_type": "code",
      "source": [
        "os.environ['NEPTUNE_API_TOKEN'] = \"eyJhcGlfYWRkcmVzcyI6Imh0dHBzOi8vYXBwLm5lcHR1bmUuYWkiLCJhcGlfdXJsIjoiaHR0cHM6Ly9hcHAubmVwdHVuZS5haSIsImFwaV9rZXkiOiJiM2YzNGEwOC1iNmYyLTQ3YTEtYTljNi0xOWNmYWE0ZjZjOTMifQ==\""
      ],
      "metadata": {
        "id": "rLlbxk2i38EY"
      },
      "execution_count": 30,
      "outputs": []
    },
    {
      "cell_type": "code",
      "source": [
        "!neptune sync -p 'New-Thesis/Kaggle-3Cls-No-Building' --offline-only"
      ],
      "metadata": {
        "id": "OFzKicgd384o",
        "outputId": "53603bf2-0341-4849-9192-ef835b4e5c43",
        "colab": {
          "base_uri": "https://localhost:8080/"
        }
      },
      "execution_count": 31,
      "outputs": [
        {
          "output_type": "stream",
          "name": "stdout",
          "text": [
            "Offline container 9bd80c0b-6524-46ec-9451-377c46f53894 registered as New-Thesis/Kaggle-3Cls-No-Building/K3NB-44\n",
            "Synchronising New-Thesis/Kaggle-3Cls-No-Building/K3NB-44\n",
            "Deleted: /content/.neptune/async/run__9bd80c0b-6524-46ec-9451-377c46f53894__11344__fqqlvrxo\n",
            "Synchronization of run New-Thesis/Kaggle-3Cls-No-Building/K3NB-44 completed.\n"
          ]
        }
      ]
    },
    {
      "cell_type": "code",
      "source": [],
      "metadata": {
        "id": "2P2ujdPO39KB"
      },
      "execution_count": null,
      "outputs": []
    },
    {
      "cell_type": "markdown",
      "source": [
        "## Extract Model Checkpoint\n",
        "- Download model from neptune AI\n",
        "- Upload here\n",
        "- change path and names and run code"
      ],
      "metadata": {
        "id": "-5x8V11RMVlx"
      }
    },
    {
      "cell_type": "code",
      "source": [
        "sm = tf.keras.models.load_model(\"/content/model.keras\")\n"
      ],
      "metadata": {
        "id": "_BBox0sHJlty"
      },
      "execution_count": null,
      "outputs": []
    },
    {
      "cell_type": "code",
      "source": [
        "FIX-MODEL-NAME\n",
        "\n",
        "sm.save_weights(\"./checkpoints/test_model\")\n"
      ],
      "metadata": {
        "id": "JS-rB2jZMbfY"
      },
      "execution_count": null,
      "outputs": []
    },
    {
      "cell_type": "code",
      "source": [
        "!zip -r test.zip \"./checkpoints\""
      ],
      "metadata": {
        "id": "TlKMiFRxMcPg"
      },
      "execution_count": null,
      "outputs": []
    }
  ]
}